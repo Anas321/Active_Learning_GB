{
  "nbformat": 4,
  "nbformat_minor": 0,
  "metadata": {
    "colab": {
      "name": "HolyGrail_test_2.ipynb",
      "provenance": [],
      "collapsed_sections": [],
      "mount_file_id": "1ebrZsK8IvfOIeMs-50RMVpjxqjYns2iE",
      "authorship_tag": "ABX9TyP6nfyrJpCwS38rIPTqf8IN",
      "include_colab_link": true
    },
    "kernelspec": {
      "name": "python3",
      "display_name": "Python 3"
    },
    "accelerator": "GPU"
  },
  "cells": [
    {
      "cell_type": "markdown",
      "metadata": {
        "id": "view-in-github",
        "colab_type": "text"
      },
      "source": [
        "<a href=\"https://colab.research.google.com/github/Anas321/Active_Learning_GB/blob/main/HolyGrail_test_2.ipynb\" target=\"_parent\"><img src=\"https://colab.research.google.com/assets/colab-badge.svg\" alt=\"Open In Colab\"/></a>"
      ]
    },
    {
      "cell_type": "markdown",
      "metadata": {
        "id": "KeUZgD6WFUVO"
      },
      "source": [
        "Install and Import Libraries"
      ]
    },
    {
      "cell_type": "code",
      "metadata": {
        "id": "3g5XsrVtqXJM",
        "colab": {
          "base_uri": "https://localhost:8080/",
          "height": 1000
        },
        "outputId": "c596da22-1ebf-4ea0-b5d7-6c14bd598d75"
      },
      "source": [
        "# !pip3 install -q http://download.pytorch.org/whl/{accelerator}/torch-0.4.0-{platform}-linux_x86_64.whl\n",
        "# !pip3 install torchvision\n",
        "!pip3 install pyro-ppl\n",
        "!pip3 install gpflow\n",
        "!pip3 install hypertunity"
      ],
      "execution_count": null,
      "outputs": [
        {
          "output_type": "stream",
          "text": [
            "Requirement already satisfied: pyro-ppl in /usr/local/lib/python3.6/dist-packages (1.4.0)\n",
            "Requirement already satisfied: pyro-api>=0.1.1 in /usr/local/lib/python3.6/dist-packages (from pyro-ppl) (0.1.2)\n",
            "Requirement already satisfied: numpy>=1.7 in /usr/local/lib/python3.6/dist-packages (from pyro-ppl) (1.18.5)\n",
            "Requirement already satisfied: tqdm>=4.36 in /usr/local/lib/python3.6/dist-packages (from pyro-ppl) (4.41.1)\n",
            "Requirement already satisfied: torch>=1.5.0 in /usr/local/lib/python3.6/dist-packages (from pyro-ppl) (1.5.1+cu101)\n",
            "Requirement already satisfied: opt-einsum>=2.3.2 in /usr/local/lib/python3.6/dist-packages (from pyro-ppl) (3.3.0)\n",
            "Requirement already satisfied: future in /usr/local/lib/python3.6/dist-packages (from torch>=1.5.0->pyro-ppl) (0.16.0)\n",
            "Requirement already satisfied: gpflow in /usr/local/lib/python3.6/dist-packages (2.0.5)\n",
            "Requirement already satisfied: multipledispatch>=0.6 in /usr/local/lib/python3.6/dist-packages (from gpflow) (0.6.0)\n",
            "Requirement already satisfied: scipy>=0.18.0 in /usr/local/lib/python3.6/dist-packages (from gpflow) (1.4.1)\n",
            "Requirement already satisfied: tabulate in /usr/local/lib/python3.6/dist-packages (from gpflow) (0.8.7)\n",
            "Requirement already satisfied: dataclasses in /usr/local/lib/python3.6/dist-packages (from gpflow) (0.7)\n",
            "Requirement already satisfied: typing-extensions in /usr/local/lib/python3.6/dist-packages (from gpflow) (3.7.4.2)\n",
            "Requirement already satisfied: tensorflow-probability>=0.9 in /usr/local/lib/python3.6/dist-packages (from gpflow) (0.10.0)\n",
            "Requirement already satisfied: numpy>=1.10.0 in /usr/local/lib/python3.6/dist-packages (from gpflow) (1.18.5)\n",
            "Requirement already satisfied: tensorflow>=2.1.0 in /usr/local/lib/python3.6/dist-packages (from gpflow) (2.2.0)\n",
            "Requirement already satisfied: six in /usr/local/lib/python3.6/dist-packages (from multipledispatch>=0.6->gpflow) (1.15.0)\n",
            "Requirement already satisfied: gast>=0.3.2 in /usr/local/lib/python3.6/dist-packages (from tensorflow-probability>=0.9->gpflow) (0.3.3)\n",
            "Requirement already satisfied: decorator in /usr/local/lib/python3.6/dist-packages (from tensorflow-probability>=0.9->gpflow) (4.4.2)\n",
            "Requirement already satisfied: cloudpickle>=1.2.2 in /usr/local/lib/python3.6/dist-packages (from tensorflow-probability>=0.9->gpflow) (1.3.0)\n",
            "Requirement already satisfied: astunparse==1.6.3 in /usr/local/lib/python3.6/dist-packages (from tensorflow>=2.1.0->gpflow) (1.6.3)\n",
            "Requirement already satisfied: termcolor>=1.1.0 in /usr/local/lib/python3.6/dist-packages (from tensorflow>=2.1.0->gpflow) (1.1.0)\n",
            "Requirement already satisfied: tensorflow-estimator<2.3.0,>=2.2.0 in /usr/local/lib/python3.6/dist-packages (from tensorflow>=2.1.0->gpflow) (2.2.0)\n",
            "Requirement already satisfied: tensorboard<2.3.0,>=2.2.0 in /usr/local/lib/python3.6/dist-packages (from tensorflow>=2.1.0->gpflow) (2.2.2)\n",
            "Requirement already satisfied: google-pasta>=0.1.8 in /usr/local/lib/python3.6/dist-packages (from tensorflow>=2.1.0->gpflow) (0.2.0)\n",
            "Requirement already satisfied: keras-preprocessing>=1.1.0 in /usr/local/lib/python3.6/dist-packages (from tensorflow>=2.1.0->gpflow) (1.1.2)\n",
            "Requirement already satisfied: opt-einsum>=2.3.2 in /usr/local/lib/python3.6/dist-packages (from tensorflow>=2.1.0->gpflow) (3.3.0)\n",
            "Requirement already satisfied: grpcio>=1.8.6 in /usr/local/lib/python3.6/dist-packages (from tensorflow>=2.1.0->gpflow) (1.30.0)\n",
            "Requirement already satisfied: h5py<2.11.0,>=2.10.0 in /usr/local/lib/python3.6/dist-packages (from tensorflow>=2.1.0->gpflow) (2.10.0)\n",
            "Requirement already satisfied: absl-py>=0.7.0 in /usr/local/lib/python3.6/dist-packages (from tensorflow>=2.1.0->gpflow) (0.9.0)\n",
            "Requirement already satisfied: wheel>=0.26; python_version >= \"3\" in /usr/local/lib/python3.6/dist-packages (from tensorflow>=2.1.0->gpflow) (0.34.2)\n",
            "Requirement already satisfied: protobuf>=3.8.0 in /usr/local/lib/python3.6/dist-packages (from tensorflow>=2.1.0->gpflow) (3.12.2)\n",
            "Requirement already satisfied: wrapt>=1.11.1 in /usr/local/lib/python3.6/dist-packages (from tensorflow>=2.1.0->gpflow) (1.12.1)\n",
            "Requirement already satisfied: google-auth<2,>=1.6.3 in /usr/local/lib/python3.6/dist-packages (from tensorboard<2.3.0,>=2.2.0->tensorflow>=2.1.0->gpflow) (1.17.2)\n",
            "Requirement already satisfied: google-auth-oauthlib<0.5,>=0.4.1 in /usr/local/lib/python3.6/dist-packages (from tensorboard<2.3.0,>=2.2.0->tensorflow>=2.1.0->gpflow) (0.4.1)\n",
            "Requirement already satisfied: requests<3,>=2.21.0 in /usr/local/lib/python3.6/dist-packages (from tensorboard<2.3.0,>=2.2.0->tensorflow>=2.1.0->gpflow) (2.23.0)\n",
            "Requirement already satisfied: setuptools>=41.0.0 in /usr/local/lib/python3.6/dist-packages (from tensorboard<2.3.0,>=2.2.0->tensorflow>=2.1.0->gpflow) (49.1.0)\n",
            "Requirement already satisfied: werkzeug>=0.11.15 in /usr/local/lib/python3.6/dist-packages (from tensorboard<2.3.0,>=2.2.0->tensorflow>=2.1.0->gpflow) (1.0.1)\n",
            "Requirement already satisfied: tensorboard-plugin-wit>=1.6.0 in /usr/local/lib/python3.6/dist-packages (from tensorboard<2.3.0,>=2.2.0->tensorflow>=2.1.0->gpflow) (1.7.0)\n",
            "Requirement already satisfied: markdown>=2.6.8 in /usr/local/lib/python3.6/dist-packages (from tensorboard<2.3.0,>=2.2.0->tensorflow>=2.1.0->gpflow) (3.2.2)\n",
            "Requirement already satisfied: rsa<5,>=3.1.4; python_version >= \"3\" in /usr/local/lib/python3.6/dist-packages (from google-auth<2,>=1.6.3->tensorboard<2.3.0,>=2.2.0->tensorflow>=2.1.0->gpflow) (4.6)\n",
            "Requirement already satisfied: pyasn1-modules>=0.2.1 in /usr/local/lib/python3.6/dist-packages (from google-auth<2,>=1.6.3->tensorboard<2.3.0,>=2.2.0->tensorflow>=2.1.0->gpflow) (0.2.8)\n",
            "Requirement already satisfied: cachetools<5.0,>=2.0.0 in /usr/local/lib/python3.6/dist-packages (from google-auth<2,>=1.6.3->tensorboard<2.3.0,>=2.2.0->tensorflow>=2.1.0->gpflow) (4.1.1)\n",
            "Requirement already satisfied: requests-oauthlib>=0.7.0 in /usr/local/lib/python3.6/dist-packages (from google-auth-oauthlib<0.5,>=0.4.1->tensorboard<2.3.0,>=2.2.0->tensorflow>=2.1.0->gpflow) (1.3.0)\n",
            "Requirement already satisfied: idna<3,>=2.5 in /usr/local/lib/python3.6/dist-packages (from requests<3,>=2.21.0->tensorboard<2.3.0,>=2.2.0->tensorflow>=2.1.0->gpflow) (2.10)\n",
            "Requirement already satisfied: chardet<4,>=3.0.2 in /usr/local/lib/python3.6/dist-packages (from requests<3,>=2.21.0->tensorboard<2.3.0,>=2.2.0->tensorflow>=2.1.0->gpflow) (3.0.4)\n",
            "Requirement already satisfied: urllib3!=1.25.0,!=1.25.1,<1.26,>=1.21.1 in /usr/local/lib/python3.6/dist-packages (from requests<3,>=2.21.0->tensorboard<2.3.0,>=2.2.0->tensorflow>=2.1.0->gpflow) (1.24.3)\n",
            "Requirement already satisfied: certifi>=2017.4.17 in /usr/local/lib/python3.6/dist-packages (from requests<3,>=2.21.0->tensorboard<2.3.0,>=2.2.0->tensorflow>=2.1.0->gpflow) (2020.6.20)\n",
            "Requirement already satisfied: importlib-metadata; python_version < \"3.8\" in /usr/local/lib/python3.6/dist-packages (from markdown>=2.6.8->tensorboard<2.3.0,>=2.2.0->tensorflow>=2.1.0->gpflow) (1.7.0)\n",
            "Requirement already satisfied: pyasn1>=0.1.3 in /usr/local/lib/python3.6/dist-packages (from rsa<5,>=3.1.4; python_version >= \"3\"->google-auth<2,>=1.6.3->tensorboard<2.3.0,>=2.2.0->tensorflow>=2.1.0->gpflow) (0.4.8)\n",
            "Requirement already satisfied: oauthlib>=3.0.0 in /usr/local/lib/python3.6/dist-packages (from requests-oauthlib>=0.7.0->google-auth-oauthlib<0.5,>=0.4.1->tensorboard<2.3.0,>=2.2.0->tensorflow>=2.1.0->gpflow) (3.1.0)\n",
            "Requirement already satisfied: zipp>=0.5 in /usr/local/lib/python3.6/dist-packages (from importlib-metadata; python_version < \"3.8\"->markdown>=2.6.8->tensorboard<2.3.0,>=2.2.0->tensorflow>=2.1.0->gpflow) (3.1.0)\n",
            "Requirement already satisfied: hypertunity in /usr/local/lib/python3.6/dist-packages (1.0.1)\n",
            "Requirement already satisfied: tinydb>=3.13.0 in /usr/local/lib/python3.6/dist-packages (from hypertunity) (4.1.1)\n",
            "Requirement already satisfied: gpyopt==1.2.5 in /usr/local/lib/python3.6/dist-packages (from hypertunity) (1.2.5)\n",
            "Requirement already satisfied: gpy>=1.9.8 in /usr/local/lib/python3.6/dist-packages (from hypertunity) (1.9.9)\n",
            "Requirement already satisfied: numpy>=1.16 in /usr/local/lib/python3.6/dist-packages (from hypertunity) (1.18.5)\n",
            "Requirement already satisfied: dataclasses; python_version < \"3.7\" in /usr/local/lib/python3.6/dist-packages (from hypertunity) (0.7)\n",
            "Requirement already satisfied: beautifultable>=0.7.0 in /usr/local/lib/python3.6/dist-packages (from hypertunity) (1.0.0)\n",
            "Requirement already satisfied: joblib>=0.13.2 in /usr/local/lib/python3.6/dist-packages (from hypertunity) (0.16.0)\n",
            "Requirement already satisfied: matplotlib>=3.0 in /usr/local/lib/python3.6/dist-packages (from hypertunity) (3.2.2)\n",
            "Requirement already satisfied: scipy>=0.16 in /usr/local/lib/python3.6/dist-packages (from gpyopt==1.2.5->hypertunity) (1.4.1)\n",
            "Requirement already satisfied: six in /usr/local/lib/python3.6/dist-packages (from gpy>=1.9.8->hypertunity) (1.15.0)\n",
            "Requirement already satisfied: paramz>=0.9.0 in /usr/local/lib/python3.6/dist-packages (from gpy>=1.9.8->hypertunity) (0.9.5)\n",
            "Requirement already satisfied: wcwidth in /usr/local/lib/python3.6/dist-packages (from beautifultable>=0.7.0->hypertunity) (0.2.5)\n",
            "Requirement already satisfied: python-dateutil>=2.1 in /usr/local/lib/python3.6/dist-packages (from matplotlib>=3.0->hypertunity) (2.8.1)\n",
            "Requirement already satisfied: pyparsing!=2.0.4,!=2.1.2,!=2.1.6,>=2.0.1 in /usr/local/lib/python3.6/dist-packages (from matplotlib>=3.0->hypertunity) (2.4.7)\n",
            "Requirement already satisfied: kiwisolver>=1.0.1 in /usr/local/lib/python3.6/dist-packages (from matplotlib>=3.0->hypertunity) (1.2.0)\n",
            "Requirement already satisfied: cycler>=0.10 in /usr/local/lib/python3.6/dist-packages (from matplotlib>=3.0->hypertunity) (0.10.0)\n",
            "Requirement already satisfied: decorator>=4.0.10 in /usr/local/lib/python3.6/dist-packages (from paramz>=0.9.0->gpy>=1.9.8->hypertunity) (4.4.2)\n"
          ],
          "name": "stdout"
        }
      ]
    },
    {
      "cell_type": "code",
      "metadata": {
        "id": "qeD7U8mqSZXS"
      },
      "source": [
        "# !pip3 install snorkel"
      ],
      "execution_count": null,
      "outputs": []
    },
    {
      "cell_type": "code",
      "metadata": {
        "id": "DI1vBePjS3vz"
      },
      "source": [
        "# !pip3 install modAL"
      ],
      "execution_count": null,
      "outputs": []
    },
    {
      "cell_type": "code",
      "metadata": {
        "id": "OQTmj3b9TQLL"
      },
      "source": [
        "from google.colab import files\n",
        "import pandas as pd\n",
        "import numpy as np\n",
        "import matplotlib.pyplot as plt\n",
        "import tensorflow as tf\n",
        "import random\n",
        "import hypertunity as ht\n",
        "\n",
        "# from sklearn.svm import SVC, LinearSVC\n",
        "\n",
        "# import torch\n",
        "# import pyro\n",
        "# import pyro.distributions as dist\n",
        "# from torch.distributions.constraints import positive\n",
        "\n",
        "import sklearn.gaussian_process as gp\n",
        "from sklearn.gaussian_process import GaussianProcessRegressor\n",
        "from sklearn.gaussian_process.kernels import RBF, WhiteKernel, ConstantKernel as C\n",
        "\n",
        "# from modAL.models import ActiveLearner\n",
        "\n",
        "\n",
        "from sklearn.impute import SimpleImputer\n",
        "from sklearn.preprocessing import StandardScaler\n",
        "from sklearn.model_selection import train_test_split\n",
        "from sklearn.preprocessing import OneHotEncoder\n",
        "from sklearn.compose import make_column_transformer\n",
        "from sklearn.decomposition import PCA\n",
        "\n",
        "import gpflow\n",
        "from gpflow.utilities import print_summary\n"
      ],
      "execution_count": null,
      "outputs": []
    },
    {
      "cell_type": "code",
      "metadata": {
        "id": "CzHXAeLg-Npo"
      },
      "source": [
        "np.random.seed(1)"
      ],
      "execution_count": null,
      "outputs": []
    },
    {
      "cell_type": "markdown",
      "metadata": {
        "id": "RftCIrwyFd22"
      },
      "source": [
        "Go to the right directory"
      ]
    },
    {
      "cell_type": "code",
      "metadata": {
        "id": "m70CIUZtT-qq",
        "colab": {
          "base_uri": "https://localhost:8080/",
          "height": 54
        },
        "outputId": "6599d816-c686-405e-c12f-ee8f5300ba46"
      },
      "source": [
        "!pwd\n",
        "!ls"
      ],
      "execution_count": null,
      "outputs": [
        {
          "output_type": "stream",
          "text": [
            "/content/drive/My Drive/Colab Notebooks/HolyGrail_test\n",
            "'Test task July 2020 - Sheet1.csv'\n"
          ],
          "name": "stdout"
        }
      ]
    },
    {
      "cell_type": "code",
      "metadata": {
        "id": "2qeFAJhNUF6r",
        "colab": {
          "base_uri": "https://localhost:8080/",
          "height": 54
        },
        "outputId": "5b724592-c69b-460b-f843-3609dc5f6413"
      },
      "source": [
        "cd drive/My\\ Drive/Colab\\ Notebooks/HolyGrail_test/"
      ],
      "execution_count": null,
      "outputs": [
        {
          "output_type": "stream",
          "text": [
            "[Errno 2] No such file or directory: 'drive/My Drive/Colab Notebooks/HolyGrail_test/'\n",
            "/content/drive/My Drive/Colab Notebooks/HolyGrail_test\n"
          ],
          "name": "stdout"
        }
      ]
    },
    {
      "cell_type": "code",
      "metadata": {
        "id": "madOmkIGUgQj",
        "colab": {
          "base_uri": "https://localhost:8080/",
          "height": 36
        },
        "outputId": "de24f0b9-1f90-4ee9-d4ba-271185c5604a"
      },
      "source": [
        "pwd"
      ],
      "execution_count": null,
      "outputs": [
        {
          "output_type": "execute_result",
          "data": {
            "application/vnd.google.colaboratory.intrinsic+json": {
              "type": "string"
            },
            "text/plain": [
              "'/content/drive/My Drive/Colab Notebooks/HolyGrail_test'"
            ]
          },
          "metadata": {
            "tags": []
          },
          "execution_count": 44
        }
      ]
    },
    {
      "cell_type": "code",
      "metadata": {
        "id": "w7doZODnU_4W",
        "colab": {
          "base_uri": "https://localhost:8080/",
          "height": 35
        },
        "outputId": "de3ed6e6-bade-4f5e-8e6c-addebd237ed4"
      },
      "source": [
        "ls"
      ],
      "execution_count": null,
      "outputs": [
        {
          "output_type": "stream",
          "text": [
            "'Test task July 2020 - Sheet1.csv'\n"
          ],
          "name": "stdout"
        }
      ]
    },
    {
      "cell_type": "code",
      "metadata": {
        "id": "UxC5YBc6T7xq"
      },
      "source": [
        "# # upload data file\n",
        "# files.upload()"
      ],
      "execution_count": null,
      "outputs": []
    },
    {
      "cell_type": "code",
      "metadata": {
        "id": "A4Si9DleVXZm",
        "colab": {
          "base_uri": "https://localhost:8080/",
          "height": 35
        },
        "outputId": "a2e75c86-bbd6-444f-8b5e-f410331dea59"
      },
      "source": [
        "ls"
      ],
      "execution_count": null,
      "outputs": [
        {
          "output_type": "stream",
          "text": [
            "'Test task July 2020 - Sheet1.csv'\n"
          ],
          "name": "stdout"
        }
      ]
    },
    {
      "cell_type": "markdown",
      "metadata": {
        "id": "-uEqE5OxFRJO"
      },
      "source": [
        "Import Data"
      ]
    },
    {
      "cell_type": "code",
      "metadata": {
        "id": "QMN2twMTVTbI"
      },
      "source": [
        "data = pd.read_csv('Test task July 2020 - Sheet1.csv')"
      ],
      "execution_count": null,
      "outputs": []
    },
    {
      "cell_type": "markdown",
      "metadata": {
        "id": "wHPW2lbbFLa7"
      },
      "source": [
        "Data Initial Exploration"
      ]
    },
    {
      "cell_type": "code",
      "metadata": {
        "id": "C6lwsWL4VclW",
        "colab": {
          "base_uri": "https://localhost:8080/",
          "height": 458
        },
        "outputId": "28e0bcf8-332f-45ff-8477-17dabcff1460"
      },
      "source": [
        "data.info()"
      ],
      "execution_count": null,
      "outputs": [
        {
          "output_type": "stream",
          "text": [
            "<class 'pandas.core.frame.DataFrame'>\n",
            "RangeIndex: 600 entries, 0 to 599\n",
            "Data columns (total 17 columns):\n",
            " #   Column   Non-Null Count  Dtype  \n",
            "---  ------   --------------  -----  \n",
            " 0   Input1   600 non-null    object \n",
            " 1   Input2   600 non-null    object \n",
            " 2   Input3   600 non-null    object \n",
            " 3   Input4   600 non-null    float64\n",
            " 4   Input5   600 non-null    float64\n",
            " 5   Input6   600 non-null    float64\n",
            " 6   Input7   600 non-null    float64\n",
            " 7   Input8   600 non-null    float64\n",
            " 8   Input9   600 non-null    float64\n",
            " 9   Input10  600 non-null    float64\n",
            " 10  Input11  600 non-null    float64\n",
            " 11  Input12  600 non-null    float64\n",
            " 12  Input13  600 non-null    float64\n",
            " 13  Input14  600 non-null    float64\n",
            " 14  Input15  600 non-null    float64\n",
            " 15  Input16  600 non-null    int64  \n",
            " 16  Target   600 non-null    float64\n",
            "dtypes: float64(13), int64(1), object(3)\n",
            "memory usage: 79.8+ KB\n"
          ],
          "name": "stdout"
        }
      ]
    },
    {
      "cell_type": "code",
      "metadata": {
        "id": "p1vU0tywVgeD",
        "colab": {
          "base_uri": "https://localhost:8080/",
          "height": 414
        },
        "outputId": "c6998005-f854-4e25-c5cf-3b29af4c2f9c"
      },
      "source": [
        "data.describe(include='all')"
      ],
      "execution_count": null,
      "outputs": [
        {
          "output_type": "execute_result",
          "data": {
            "text/html": [
              "<div>\n",
              "<style scoped>\n",
              "    .dataframe tbody tr th:only-of-type {\n",
              "        vertical-align: middle;\n",
              "    }\n",
              "\n",
              "    .dataframe tbody tr th {\n",
              "        vertical-align: top;\n",
              "    }\n",
              "\n",
              "    .dataframe thead th {\n",
              "        text-align: right;\n",
              "    }\n",
              "</style>\n",
              "<table border=\"1\" class=\"dataframe\">\n",
              "  <thead>\n",
              "    <tr style=\"text-align: right;\">\n",
              "      <th></th>\n",
              "      <th>Input1</th>\n",
              "      <th>Input2</th>\n",
              "      <th>Input3</th>\n",
              "      <th>Input4</th>\n",
              "      <th>Input5</th>\n",
              "      <th>Input6</th>\n",
              "      <th>Input7</th>\n",
              "      <th>Input8</th>\n",
              "      <th>Input9</th>\n",
              "      <th>Input10</th>\n",
              "      <th>Input11</th>\n",
              "      <th>Input12</th>\n",
              "      <th>Input13</th>\n",
              "      <th>Input14</th>\n",
              "      <th>Input15</th>\n",
              "      <th>Input16</th>\n",
              "      <th>Target</th>\n",
              "    </tr>\n",
              "  </thead>\n",
              "  <tbody>\n",
              "    <tr>\n",
              "      <th>count</th>\n",
              "      <td>600</td>\n",
              "      <td>600</td>\n",
              "      <td>600</td>\n",
              "      <td>600.000000</td>\n",
              "      <td>600.000000</td>\n",
              "      <td>600.000000</td>\n",
              "      <td>600.000000</td>\n",
              "      <td>600.000000</td>\n",
              "      <td>600.000000</td>\n",
              "      <td>600.000000</td>\n",
              "      <td>600.000000</td>\n",
              "      <td>600.000000</td>\n",
              "      <td>600.000000</td>\n",
              "      <td>600.000000</td>\n",
              "      <td>600.000000</td>\n",
              "      <td>600.000000</td>\n",
              "      <td>600.000000</td>\n",
              "    </tr>\n",
              "    <tr>\n",
              "      <th>unique</th>\n",
              "      <td>7</td>\n",
              "      <td>8</td>\n",
              "      <td>6</td>\n",
              "      <td>NaN</td>\n",
              "      <td>NaN</td>\n",
              "      <td>NaN</td>\n",
              "      <td>NaN</td>\n",
              "      <td>NaN</td>\n",
              "      <td>NaN</td>\n",
              "      <td>NaN</td>\n",
              "      <td>NaN</td>\n",
              "      <td>NaN</td>\n",
              "      <td>NaN</td>\n",
              "      <td>NaN</td>\n",
              "      <td>NaN</td>\n",
              "      <td>NaN</td>\n",
              "      <td>NaN</td>\n",
              "    </tr>\n",
              "    <tr>\n",
              "      <th>top</th>\n",
              "      <td>ACN</td>\n",
              "      <td>PUR</td>\n",
              "      <td>LiClO4</td>\n",
              "      <td>NaN</td>\n",
              "      <td>NaN</td>\n",
              "      <td>NaN</td>\n",
              "      <td>NaN</td>\n",
              "      <td>NaN</td>\n",
              "      <td>NaN</td>\n",
              "      <td>NaN</td>\n",
              "      <td>NaN</td>\n",
              "      <td>NaN</td>\n",
              "      <td>NaN</td>\n",
              "      <td>NaN</td>\n",
              "      <td>NaN</td>\n",
              "      <td>NaN</td>\n",
              "      <td>NaN</td>\n",
              "    </tr>\n",
              "    <tr>\n",
              "      <th>freq</th>\n",
              "      <td>101</td>\n",
              "      <td>91</td>\n",
              "      <td>109</td>\n",
              "      <td>NaN</td>\n",
              "      <td>NaN</td>\n",
              "      <td>NaN</td>\n",
              "      <td>NaN</td>\n",
              "      <td>NaN</td>\n",
              "      <td>NaN</td>\n",
              "      <td>NaN</td>\n",
              "      <td>NaN</td>\n",
              "      <td>NaN</td>\n",
              "      <td>NaN</td>\n",
              "      <td>NaN</td>\n",
              "      <td>NaN</td>\n",
              "      <td>NaN</td>\n",
              "      <td>NaN</td>\n",
              "    </tr>\n",
              "    <tr>\n",
              "      <th>mean</th>\n",
              "      <td>NaN</td>\n",
              "      <td>NaN</td>\n",
              "      <td>NaN</td>\n",
              "      <td>10753.079667</td>\n",
              "      <td>1008.978500</td>\n",
              "      <td>450.380000</td>\n",
              "      <td>42.231333</td>\n",
              "      <td>522.289833</td>\n",
              "      <td>1581.572833</td>\n",
              "      <td>642.098833</td>\n",
              "      <td>49.957167</td>\n",
              "      <td>1172.423167</td>\n",
              "      <td>116.638167</td>\n",
              "      <td>0.509833</td>\n",
              "      <td>270.268519</td>\n",
              "      <td>0.483333</td>\n",
              "      <td>1179.171172</td>\n",
              "    </tr>\n",
              "    <tr>\n",
              "      <th>std</th>\n",
              "      <td>NaN</td>\n",
              "      <td>NaN</td>\n",
              "      <td>NaN</td>\n",
              "      <td>5693.583199</td>\n",
              "      <td>565.175402</td>\n",
              "      <td>254.635034</td>\n",
              "      <td>10.157400</td>\n",
              "      <td>290.950452</td>\n",
              "      <td>838.421529</td>\n",
              "      <td>205.396181</td>\n",
              "      <td>5.628414</td>\n",
              "      <td>700.645508</td>\n",
              "      <td>49.024551</td>\n",
              "      <td>0.297322</td>\n",
              "      <td>108.551663</td>\n",
              "      <td>0.500139</td>\n",
              "      <td>1427.136553</td>\n",
              "    </tr>\n",
              "    <tr>\n",
              "      <th>min</th>\n",
              "      <td>NaN</td>\n",
              "      <td>NaN</td>\n",
              "      <td>NaN</td>\n",
              "      <td>1009.300000</td>\n",
              "      <td>52.400000</td>\n",
              "      <td>1.200000</td>\n",
              "      <td>25.000000</td>\n",
              "      <td>13.000000</td>\n",
              "      <td>100.600000</td>\n",
              "      <td>301.300000</td>\n",
              "      <td>40.000000</td>\n",
              "      <td>13.300000</td>\n",
              "      <td>30.200000</td>\n",
              "      <td>0.000000</td>\n",
              "      <td>100.000000</td>\n",
              "      <td>0.000000</td>\n",
              "      <td>4.851770</td>\n",
              "    </tr>\n",
              "    <tr>\n",
              "      <th>25%</th>\n",
              "      <td>NaN</td>\n",
              "      <td>NaN</td>\n",
              "      <td>NaN</td>\n",
              "      <td>5826.425000</td>\n",
              "      <td>508.300000</td>\n",
              "      <td>224.850000</td>\n",
              "      <td>33.475000</td>\n",
              "      <td>265.625000</td>\n",
              "      <td>847.775000</td>\n",
              "      <td>454.750000</td>\n",
              "      <td>45.375000</td>\n",
              "      <td>542.550000</td>\n",
              "      <td>74.275000</td>\n",
              "      <td>0.200000</td>\n",
              "      <td>177.777800</td>\n",
              "      <td>0.000000</td>\n",
              "      <td>184.083723</td>\n",
              "    </tr>\n",
              "    <tr>\n",
              "      <th>50%</th>\n",
              "      <td>NaN</td>\n",
              "      <td>NaN</td>\n",
              "      <td>NaN</td>\n",
              "      <td>10726.050000</td>\n",
              "      <td>989.800000</td>\n",
              "      <td>457.200000</td>\n",
              "      <td>41.800000</td>\n",
              "      <td>542.400000</td>\n",
              "      <td>1641.100000</td>\n",
              "      <td>639.500000</td>\n",
              "      <td>50.100000</td>\n",
              "      <td>1158.900000</td>\n",
              "      <td>116.050000</td>\n",
              "      <td>0.500000</td>\n",
              "      <td>255.555600</td>\n",
              "      <td>0.000000</td>\n",
              "      <td>619.636993</td>\n",
              "    </tr>\n",
              "    <tr>\n",
              "      <th>75%</th>\n",
              "      <td>NaN</td>\n",
              "      <td>NaN</td>\n",
              "      <td>NaN</td>\n",
              "      <td>15758.050000</td>\n",
              "      <td>1489.450000</td>\n",
              "      <td>663.425000</td>\n",
              "      <td>50.900000</td>\n",
              "      <td>769.800000</td>\n",
              "      <td>2273.250000</td>\n",
              "      <td>819.200000</td>\n",
              "      <td>54.600000</td>\n",
              "      <td>1771.000000</td>\n",
              "      <td>159.800000</td>\n",
              "      <td>0.800000</td>\n",
              "      <td>372.222200</td>\n",
              "      <td>1.000000</td>\n",
              "      <td>1790.231535</td>\n",
              "    </tr>\n",
              "    <tr>\n",
              "      <th>max</th>\n",
              "      <td>NaN</td>\n",
              "      <td>NaN</td>\n",
              "      <td>NaN</td>\n",
              "      <td>19994.500000</td>\n",
              "      <td>1997.900000</td>\n",
              "      <td>899.800000</td>\n",
              "      <td>60.000000</td>\n",
              "      <td>999.800000</td>\n",
              "      <td>2999.700000</td>\n",
              "      <td>994.800000</td>\n",
              "      <td>59.900000</td>\n",
              "      <td>2399.600000</td>\n",
              "      <td>199.900000</td>\n",
              "      <td>1.000000</td>\n",
              "      <td>450.000000</td>\n",
              "      <td>1.000000</td>\n",
              "      <td>11607.080760</td>\n",
              "    </tr>\n",
              "  </tbody>\n",
              "</table>\n",
              "</div>"
            ],
            "text/plain": [
              "       Input1 Input2  Input3  ...     Input15     Input16        Target\n",
              "count     600    600     600  ...  600.000000  600.000000    600.000000\n",
              "unique      7      8       6  ...         NaN         NaN           NaN\n",
              "top       ACN    PUR  LiClO4  ...         NaN         NaN           NaN\n",
              "freq      101     91     109  ...         NaN         NaN           NaN\n",
              "mean      NaN    NaN     NaN  ...  270.268519    0.483333   1179.171172\n",
              "std       NaN    NaN     NaN  ...  108.551663    0.500139   1427.136553\n",
              "min       NaN    NaN     NaN  ...  100.000000    0.000000      4.851770\n",
              "25%       NaN    NaN     NaN  ...  177.777800    0.000000    184.083723\n",
              "50%       NaN    NaN     NaN  ...  255.555600    0.000000    619.636993\n",
              "75%       NaN    NaN     NaN  ...  372.222200    1.000000   1790.231535\n",
              "max       NaN    NaN     NaN  ...  450.000000    1.000000  11607.080760\n",
              "\n",
              "[11 rows x 17 columns]"
            ]
          },
          "metadata": {
            "tags": []
          },
          "execution_count": 50
        }
      ]
    },
    {
      "cell_type": "code",
      "metadata": {
        "id": "mlDlASWOVrr0",
        "colab": {
          "base_uri": "https://localhost:8080/",
          "height": 226
        },
        "outputId": "a8cab40a-a5f2-4a2a-9082-f14444cce714"
      },
      "source": [
        "data.head()"
      ],
      "execution_count": null,
      "outputs": [
        {
          "output_type": "execute_result",
          "data": {
            "text/html": [
              "<div>\n",
              "<style scoped>\n",
              "    .dataframe tbody tr th:only-of-type {\n",
              "        vertical-align: middle;\n",
              "    }\n",
              "\n",
              "    .dataframe tbody tr th {\n",
              "        vertical-align: top;\n",
              "    }\n",
              "\n",
              "    .dataframe thead th {\n",
              "        text-align: right;\n",
              "    }\n",
              "</style>\n",
              "<table border=\"1\" class=\"dataframe\">\n",
              "  <thead>\n",
              "    <tr style=\"text-align: right;\">\n",
              "      <th></th>\n",
              "      <th>Input1</th>\n",
              "      <th>Input2</th>\n",
              "      <th>Input3</th>\n",
              "      <th>Input4</th>\n",
              "      <th>Input5</th>\n",
              "      <th>Input6</th>\n",
              "      <th>Input7</th>\n",
              "      <th>Input8</th>\n",
              "      <th>Input9</th>\n",
              "      <th>Input10</th>\n",
              "      <th>Input11</th>\n",
              "      <th>Input12</th>\n",
              "      <th>Input13</th>\n",
              "      <th>Input14</th>\n",
              "      <th>Input15</th>\n",
              "      <th>Input16</th>\n",
              "      <th>Target</th>\n",
              "    </tr>\n",
              "  </thead>\n",
              "  <tbody>\n",
              "    <tr>\n",
              "      <th>0</th>\n",
              "      <td>acetone</td>\n",
              "      <td>PDMS</td>\n",
              "      <td>LiClO4</td>\n",
              "      <td>12825.6</td>\n",
              "      <td>75.7</td>\n",
              "      <td>546.3</td>\n",
              "      <td>50.6</td>\n",
              "      <td>78.8</td>\n",
              "      <td>1408.9</td>\n",
              "      <td>463.1</td>\n",
              "      <td>43.6</td>\n",
              "      <td>120.3</td>\n",
              "      <td>97.8</td>\n",
              "      <td>0.8</td>\n",
              "      <td>450.0000</td>\n",
              "      <td>0</td>\n",
              "      <td>246.086636</td>\n",
              "    </tr>\n",
              "    <tr>\n",
              "      <th>1</th>\n",
              "      <td>ACN</td>\n",
              "      <td>PUR</td>\n",
              "      <td>LiI</td>\n",
              "      <td>5161.7</td>\n",
              "      <td>1365.1</td>\n",
              "      <td>397.2</td>\n",
              "      <td>39.7</td>\n",
              "      <td>152.4</td>\n",
              "      <td>423.3</td>\n",
              "      <td>751.8</td>\n",
              "      <td>56.1</td>\n",
              "      <td>944.7</td>\n",
              "      <td>90.4</td>\n",
              "      <td>0.8</td>\n",
              "      <td>138.8889</td>\n",
              "      <td>1</td>\n",
              "      <td>779.498146</td>\n",
              "    </tr>\n",
              "    <tr>\n",
              "      <th>2</th>\n",
              "      <td>DMSO</td>\n",
              "      <td>PS</td>\n",
              "      <td>LiClO6</td>\n",
              "      <td>13297.0</td>\n",
              "      <td>221.2</td>\n",
              "      <td>528.9</td>\n",
              "      <td>37.1</td>\n",
              "      <td>209.4</td>\n",
              "      <td>2737.2</td>\n",
              "      <td>829.7</td>\n",
              "      <td>58.1</td>\n",
              "      <td>2304.2</td>\n",
              "      <td>103.1</td>\n",
              "      <td>0.9</td>\n",
              "      <td>177.7778</td>\n",
              "      <td>0</td>\n",
              "      <td>5145.489427</td>\n",
              "    </tr>\n",
              "    <tr>\n",
              "      <th>3</th>\n",
              "      <td>propanol</td>\n",
              "      <td>PP</td>\n",
              "      <td>LiClO4</td>\n",
              "      <td>18131.2</td>\n",
              "      <td>1550.2</td>\n",
              "      <td>875.9</td>\n",
              "      <td>34.8</td>\n",
              "      <td>976.5</td>\n",
              "      <td>316.6</td>\n",
              "      <td>519.5</td>\n",
              "      <td>46.0</td>\n",
              "      <td>158.6</td>\n",
              "      <td>180.1</td>\n",
              "      <td>0.4</td>\n",
              "      <td>100.0000</td>\n",
              "      <td>1</td>\n",
              "      <td>6.773916</td>\n",
              "    </tr>\n",
              "    <tr>\n",
              "      <th>4</th>\n",
              "      <td>ACN</td>\n",
              "      <td>PMMA</td>\n",
              "      <td>LiClO6</td>\n",
              "      <td>19764.5</td>\n",
              "      <td>201.7</td>\n",
              "      <td>371.8</td>\n",
              "      <td>40.5</td>\n",
              "      <td>614.0</td>\n",
              "      <td>2499.8</td>\n",
              "      <td>989.7</td>\n",
              "      <td>53.9</td>\n",
              "      <td>815.9</td>\n",
              "      <td>116.1</td>\n",
              "      <td>0.9</td>\n",
              "      <td>100.0000</td>\n",
              "      <td>0</td>\n",
              "      <td>601.290165</td>\n",
              "    </tr>\n",
              "  </tbody>\n",
              "</table>\n",
              "</div>"
            ],
            "text/plain": [
              "     Input1 Input2  Input3   Input4  ...  Input14   Input15  Input16       Target\n",
              "0   acetone   PDMS  LiClO4  12825.6  ...      0.8  450.0000        0   246.086636\n",
              "1       ACN    PUR     LiI   5161.7  ...      0.8  138.8889        1   779.498146\n",
              "2      DMSO     PS  LiClO6  13297.0  ...      0.9  177.7778        0  5145.489427\n",
              "3  propanol     PP  LiClO4  18131.2  ...      0.4  100.0000        1     6.773916\n",
              "4       ACN   PMMA  LiClO6  19764.5  ...      0.9  100.0000        0   601.290165\n",
              "\n",
              "[5 rows x 17 columns]"
            ]
          },
          "metadata": {
            "tags": []
          },
          "execution_count": 51
        }
      ]
    },
    {
      "cell_type": "code",
      "metadata": {
        "id": "xenf6wAqV2ch",
        "colab": {
          "base_uri": "https://localhost:8080/",
          "height": 226
        },
        "outputId": "d0fb5f0e-10eb-4ca9-b163-72a674b787a2"
      },
      "source": [
        "data.tail()"
      ],
      "execution_count": null,
      "outputs": [
        {
          "output_type": "execute_result",
          "data": {
            "text/html": [
              "<div>\n",
              "<style scoped>\n",
              "    .dataframe tbody tr th:only-of-type {\n",
              "        vertical-align: middle;\n",
              "    }\n",
              "\n",
              "    .dataframe tbody tr th {\n",
              "        vertical-align: top;\n",
              "    }\n",
              "\n",
              "    .dataframe thead th {\n",
              "        text-align: right;\n",
              "    }\n",
              "</style>\n",
              "<table border=\"1\" class=\"dataframe\">\n",
              "  <thead>\n",
              "    <tr style=\"text-align: right;\">\n",
              "      <th></th>\n",
              "      <th>Input1</th>\n",
              "      <th>Input2</th>\n",
              "      <th>Input3</th>\n",
              "      <th>Input4</th>\n",
              "      <th>Input5</th>\n",
              "      <th>Input6</th>\n",
              "      <th>Input7</th>\n",
              "      <th>Input8</th>\n",
              "      <th>Input9</th>\n",
              "      <th>Input10</th>\n",
              "      <th>Input11</th>\n",
              "      <th>Input12</th>\n",
              "      <th>Input13</th>\n",
              "      <th>Input14</th>\n",
              "      <th>Input15</th>\n",
              "      <th>Input16</th>\n",
              "      <th>Target</th>\n",
              "    </tr>\n",
              "  </thead>\n",
              "  <tbody>\n",
              "    <tr>\n",
              "      <th>595</th>\n",
              "      <td>acetone</td>\n",
              "      <td>Nylon</td>\n",
              "      <td>LiClO4</td>\n",
              "      <td>9235.5</td>\n",
              "      <td>413.8</td>\n",
              "      <td>759.3</td>\n",
              "      <td>42.5</td>\n",
              "      <td>518.9</td>\n",
              "      <td>2316.1</td>\n",
              "      <td>949.4</td>\n",
              "      <td>55.5</td>\n",
              "      <td>297.5</td>\n",
              "      <td>99.8</td>\n",
              "      <td>0.5</td>\n",
              "      <td>450.0000</td>\n",
              "      <td>0</td>\n",
              "      <td>147.716638</td>\n",
              "    </tr>\n",
              "    <tr>\n",
              "      <th>596</th>\n",
              "      <td>THF</td>\n",
              "      <td>PUR</td>\n",
              "      <td>LiBF4</td>\n",
              "      <td>4959.3</td>\n",
              "      <td>272.3</td>\n",
              "      <td>558.7</td>\n",
              "      <td>55.2</td>\n",
              "      <td>331.9</td>\n",
              "      <td>2945.9</td>\n",
              "      <td>825.4</td>\n",
              "      <td>46.2</td>\n",
              "      <td>1913.9</td>\n",
              "      <td>37.7</td>\n",
              "      <td>0.6</td>\n",
              "      <td>255.5556</td>\n",
              "      <td>0</td>\n",
              "      <td>331.005190</td>\n",
              "    </tr>\n",
              "    <tr>\n",
              "      <th>597</th>\n",
              "      <td>acetone</td>\n",
              "      <td>Nylon</td>\n",
              "      <td>LiClO6</td>\n",
              "      <td>1120.6</td>\n",
              "      <td>1997.9</td>\n",
              "      <td>842.0</td>\n",
              "      <td>52.6</td>\n",
              "      <td>348.1</td>\n",
              "      <td>2480.4</td>\n",
              "      <td>734.1</td>\n",
              "      <td>51.8</td>\n",
              "      <td>1480.2</td>\n",
              "      <td>185.0</td>\n",
              "      <td>1.0</td>\n",
              "      <td>100.0000</td>\n",
              "      <td>1</td>\n",
              "      <td>3293.799219</td>\n",
              "    </tr>\n",
              "    <tr>\n",
              "      <th>598</th>\n",
              "      <td>ACN</td>\n",
              "      <td>PDMS</td>\n",
              "      <td>LiClO6</td>\n",
              "      <td>17819.0</td>\n",
              "      <td>53.6</td>\n",
              "      <td>339.4</td>\n",
              "      <td>42.1</td>\n",
              "      <td>610.6</td>\n",
              "      <td>822.6</td>\n",
              "      <td>504.9</td>\n",
              "      <td>54.8</td>\n",
              "      <td>1150.0</td>\n",
              "      <td>136.6</td>\n",
              "      <td>0.1</td>\n",
              "      <td>100.0000</td>\n",
              "      <td>0</td>\n",
              "      <td>248.158268</td>\n",
              "    </tr>\n",
              "    <tr>\n",
              "      <th>599</th>\n",
              "      <td>propanol</td>\n",
              "      <td>PDMS</td>\n",
              "      <td>LiCF3SO3</td>\n",
              "      <td>7843.8</td>\n",
              "      <td>259.0</td>\n",
              "      <td>833.8</td>\n",
              "      <td>43.8</td>\n",
              "      <td>851.9</td>\n",
              "      <td>2956.3</td>\n",
              "      <td>611.0</td>\n",
              "      <td>48.8</td>\n",
              "      <td>2149.6</td>\n",
              "      <td>67.6</td>\n",
              "      <td>0.9</td>\n",
              "      <td>294.4444</td>\n",
              "      <td>1</td>\n",
              "      <td>539.745842</td>\n",
              "    </tr>\n",
              "  </tbody>\n",
              "</table>\n",
              "</div>"
            ],
            "text/plain": [
              "       Input1 Input2    Input3  ...   Input15  Input16       Target\n",
              "595   acetone  Nylon    LiClO4  ...  450.0000        0   147.716638\n",
              "596       THF    PUR     LiBF4  ...  255.5556        0   331.005190\n",
              "597   acetone  Nylon    LiClO6  ...  100.0000        1  3293.799219\n",
              "598       ACN   PDMS    LiClO6  ...  100.0000        0   248.158268\n",
              "599  propanol   PDMS  LiCF3SO3  ...  294.4444        1   539.745842\n",
              "\n",
              "[5 rows x 17 columns]"
            ]
          },
          "metadata": {
            "tags": []
          },
          "execution_count": 52
        }
      ]
    },
    {
      "cell_type": "code",
      "metadata": {
        "id": "IIrYqoCn1RC4"
      },
      "source": [
        "data_copy = data.copy()"
      ],
      "execution_count": null,
      "outputs": []
    },
    {
      "cell_type": "code",
      "metadata": {
        "id": "09lGU0qT2m33"
      },
      "source": [
        "scaler = StandardScaler()"
      ],
      "execution_count": null,
      "outputs": []
    },
    {
      "cell_type": "code",
      "metadata": {
        "id": "95g_PJDJ1Hah"
      },
      "source": [
        "# scale the data\n",
        "for i in range(data_copy.shape[1]):\n",
        "  if type(data_copy[data_copy.columns[i]].values[0]) != str:\n",
        "    data_copy[data_copy.columns[i]] = scaler.fit_transform(\n",
        "        data_copy[data_copy.columns[i]].values.reshape(-1,1))"
      ],
      "execution_count": null,
      "outputs": []
    },
    {
      "cell_type": "code",
      "metadata": {
        "id": "ThfbiVsO2hWL",
        "colab": {
          "base_uri": "https://localhost:8080/",
          "height": 444
        },
        "outputId": "47130017-a46e-403f-c72e-4c5c50cbade6"
      },
      "source": [
        "data_copy"
      ],
      "execution_count": null,
      "outputs": [
        {
          "output_type": "execute_result",
          "data": {
            "text/html": [
              "<div>\n",
              "<style scoped>\n",
              "    .dataframe tbody tr th:only-of-type {\n",
              "        vertical-align: middle;\n",
              "    }\n",
              "\n",
              "    .dataframe tbody tr th {\n",
              "        vertical-align: top;\n",
              "    }\n",
              "\n",
              "    .dataframe thead th {\n",
              "        text-align: right;\n",
              "    }\n",
              "</style>\n",
              "<table border=\"1\" class=\"dataframe\">\n",
              "  <thead>\n",
              "    <tr style=\"text-align: right;\">\n",
              "      <th></th>\n",
              "      <th>Input1</th>\n",
              "      <th>Input2</th>\n",
              "      <th>Input3</th>\n",
              "      <th>Input4</th>\n",
              "      <th>Input5</th>\n",
              "      <th>Input6</th>\n",
              "      <th>Input7</th>\n",
              "      <th>Input8</th>\n",
              "      <th>Input9</th>\n",
              "      <th>Input10</th>\n",
              "      <th>Input11</th>\n",
              "      <th>Input12</th>\n",
              "      <th>Input13</th>\n",
              "      <th>Input14</th>\n",
              "      <th>Input15</th>\n",
              "      <th>Input16</th>\n",
              "      <th>Target</th>\n",
              "    </tr>\n",
              "  </thead>\n",
              "  <tbody>\n",
              "    <tr>\n",
              "      <th>0</th>\n",
              "      <td>acetone</td>\n",
              "      <td>PDMS</td>\n",
              "      <td>LiClO4</td>\n",
              "      <td>0.364314</td>\n",
              "      <td>-1.652686</td>\n",
              "      <td>0.377010</td>\n",
              "      <td>0.824586</td>\n",
              "      <td>-1.525551</td>\n",
              "      <td>-0.206122</td>\n",
              "      <td>-0.872208</td>\n",
              "      <td>-1.130420</td>\n",
              "      <td>-1.502901</td>\n",
              "      <td>-0.384580</td>\n",
              "      <td>0.976747</td>\n",
              "      <td>1.657104</td>\n",
              "      <td>-0.967204</td>\n",
              "      <td>-0.654361</td>\n",
              "    </tr>\n",
              "    <tr>\n",
              "      <th>1</th>\n",
              "      <td>ACN</td>\n",
              "      <td>PUR</td>\n",
              "      <td>LiI</td>\n",
              "      <td>-0.982869</td>\n",
              "      <td>0.630634</td>\n",
              "      <td>-0.209022</td>\n",
              "      <td>-0.249419</td>\n",
              "      <td>-1.272376</td>\n",
              "      <td>-1.382645</td>\n",
              "      <td>0.534541</td>\n",
              "      <td>1.092307</td>\n",
              "      <td>-0.325290</td>\n",
              "      <td>-0.535651</td>\n",
              "      <td>0.976747</td>\n",
              "      <td>-1.211306</td>\n",
              "      <td>1.033908</td>\n",
              "      <td>-0.280286</td>\n",
              "    </tr>\n",
              "    <tr>\n",
              "      <th>2</th>\n",
              "      <td>DMSO</td>\n",
              "      <td>PS</td>\n",
              "      <td>LiClO6</td>\n",
              "      <td>0.447178</td>\n",
              "      <td>-1.395029</td>\n",
              "      <td>0.308620</td>\n",
              "      <td>-0.505603</td>\n",
              "      <td>-1.076303</td>\n",
              "      <td>1.379487</td>\n",
              "      <td>0.914125</td>\n",
              "      <td>1.447944</td>\n",
              "      <td>1.616682</td>\n",
              "      <td>-0.276381</td>\n",
              "      <td>1.313363</td>\n",
              "      <td>-0.852754</td>\n",
              "      <td>-0.967204</td>\n",
              "      <td>2.781533</td>\n",
              "    </tr>\n",
              "    <tr>\n",
              "      <th>3</th>\n",
              "      <td>propanol</td>\n",
              "      <td>PP</td>\n",
              "      <td>LiClO4</td>\n",
              "      <td>1.296947</td>\n",
              "      <td>0.958416</td>\n",
              "      <td>1.672492</td>\n",
              "      <td>-0.732228</td>\n",
              "      <td>1.562428</td>\n",
              "      <td>-1.510014</td>\n",
              "      <td>-0.597388</td>\n",
              "      <td>-0.703656</td>\n",
              "      <td>-1.448192</td>\n",
              "      <td>1.295571</td>\n",
              "      <td>-0.369716</td>\n",
              "      <td>-1.569857</td>\n",
              "      <td>1.033908</td>\n",
              "      <td>-0.822189</td>\n",
              "    </tr>\n",
              "    <tr>\n",
              "      <th>4</th>\n",
              "      <td>ACN</td>\n",
              "      <td>PMMA</td>\n",
              "      <td>LiClO6</td>\n",
              "      <td>1.584053</td>\n",
              "      <td>-1.429560</td>\n",
              "      <td>-0.308856</td>\n",
              "      <td>-0.170593</td>\n",
              "      <td>0.315472</td>\n",
              "      <td>1.096099</td>\n",
              "      <td>1.693757</td>\n",
              "      <td>0.701107</td>\n",
              "      <td>-0.509274</td>\n",
              "      <td>-0.010987</td>\n",
              "      <td>1.313363</td>\n",
              "      <td>-1.569857</td>\n",
              "      <td>-0.967204</td>\n",
              "      <td>-0.405261</td>\n",
              "    </tr>\n",
              "    <tr>\n",
              "      <th>...</th>\n",
              "      <td>...</td>\n",
              "      <td>...</td>\n",
              "      <td>...</td>\n",
              "      <td>...</td>\n",
              "      <td>...</td>\n",
              "      <td>...</td>\n",
              "      <td>...</td>\n",
              "      <td>...</td>\n",
              "      <td>...</td>\n",
              "      <td>...</td>\n",
              "      <td>...</td>\n",
              "      <td>...</td>\n",
              "      <td>...</td>\n",
              "      <td>...</td>\n",
              "      <td>...</td>\n",
              "      <td>...</td>\n",
              "      <td>...</td>\n",
              "    </tr>\n",
              "    <tr>\n",
              "      <th>595</th>\n",
              "      <td>acetone</td>\n",
              "      <td>Nylon</td>\n",
              "      <td>LiClO4</td>\n",
              "      <td>-0.266765</td>\n",
              "      <td>-1.053965</td>\n",
              "      <td>1.214200</td>\n",
              "      <td>0.026472</td>\n",
              "      <td>-0.011661</td>\n",
              "      <td>0.876814</td>\n",
              "      <td>1.497387</td>\n",
              "      <td>0.985617</td>\n",
              "      <td>-1.249781</td>\n",
              "      <td>-0.343751</td>\n",
              "      <td>-0.033101</td>\n",
              "      <td>1.657104</td>\n",
              "      <td>-0.967204</td>\n",
              "      <td>-0.723347</td>\n",
              "    </tr>\n",
              "    <tr>\n",
              "      <th>596</th>\n",
              "      <td>THF</td>\n",
              "      <td>PUR</td>\n",
              "      <td>LiBF4</td>\n",
              "      <td>-1.018447</td>\n",
              "      <td>-1.304539</td>\n",
              "      <td>0.425748</td>\n",
              "      <td>1.277836</td>\n",
              "      <td>-0.654918</td>\n",
              "      <td>1.628615</td>\n",
              "      <td>0.893172</td>\n",
              "      <td>-0.668093</td>\n",
              "      <td>1.059160</td>\n",
              "      <td>-1.611520</td>\n",
              "      <td>0.303515</td>\n",
              "      <td>-0.135651</td>\n",
              "      <td>-0.967204</td>\n",
              "      <td>-0.594809</td>\n",
              "    </tr>\n",
              "    <tr>\n",
              "      <th>597</th>\n",
              "      <td>acetone</td>\n",
              "      <td>Nylon</td>\n",
              "      <td>LiClO6</td>\n",
              "      <td>-1.693225</td>\n",
              "      <td>1.751220</td>\n",
              "      <td>1.539249</td>\n",
              "      <td>1.021651</td>\n",
              "      <td>-0.599192</td>\n",
              "      <td>1.072941</td>\n",
              "      <td>0.448294</td>\n",
              "      <td>0.327689</td>\n",
              "      <td>0.439643</td>\n",
              "      <td>1.395604</td>\n",
              "      <td>1.649978</td>\n",
              "      <td>-1.569857</td>\n",
              "      <td>1.033908</td>\n",
              "      <td>1.482964</td>\n",
              "    </tr>\n",
              "    <tr>\n",
              "      <th>598</th>\n",
              "      <td>ACN</td>\n",
              "      <td>PDMS</td>\n",
              "      <td>LiClO6</td>\n",
              "      <td>1.242068</td>\n",
              "      <td>-1.691821</td>\n",
              "      <td>-0.436203</td>\n",
              "      <td>-0.012941</td>\n",
              "      <td>0.303776</td>\n",
              "      <td>-0.905995</td>\n",
              "      <td>-0.668529</td>\n",
              "      <td>0.861144</td>\n",
              "      <td>-0.032030</td>\n",
              "      <td>0.407520</td>\n",
              "      <td>-1.379564</td>\n",
              "      <td>-1.569857</td>\n",
              "      <td>-0.967204</td>\n",
              "      <td>-0.652909</td>\n",
              "    </tr>\n",
              "    <tr>\n",
              "      <th>599</th>\n",
              "      <td>propanol</td>\n",
              "      <td>PDMS</td>\n",
              "      <td>LiCF3SO3</td>\n",
              "      <td>-0.511402</td>\n",
              "      <td>-1.328091</td>\n",
              "      <td>1.507019</td>\n",
              "      <td>0.154565</td>\n",
              "      <td>1.133819</td>\n",
              "      <td>1.641029</td>\n",
              "      <td>-0.151535</td>\n",
              "      <td>-0.205765</td>\n",
              "      <td>1.395844</td>\n",
              "      <td>-1.001112</td>\n",
              "      <td>1.313363</td>\n",
              "      <td>0.222899</td>\n",
              "      <td>1.033908</td>\n",
              "      <td>-0.448422</td>\n",
              "    </tr>\n",
              "  </tbody>\n",
              "</table>\n",
              "<p>600 rows × 17 columns</p>\n",
              "</div>"
            ],
            "text/plain": [
              "       Input1 Input2    Input3  ...   Input15   Input16    Target\n",
              "0     acetone   PDMS    LiClO4  ...  1.657104 -0.967204 -0.654361\n",
              "1         ACN    PUR       LiI  ... -1.211306  1.033908 -0.280286\n",
              "2        DMSO     PS    LiClO6  ... -0.852754 -0.967204  2.781533\n",
              "3    propanol     PP    LiClO4  ... -1.569857  1.033908 -0.822189\n",
              "4         ACN   PMMA    LiClO6  ... -1.569857 -0.967204 -0.405261\n",
              "..        ...    ...       ...  ...       ...       ...       ...\n",
              "595   acetone  Nylon    LiClO4  ...  1.657104 -0.967204 -0.723347\n",
              "596       THF    PUR     LiBF4  ... -0.135651 -0.967204 -0.594809\n",
              "597   acetone  Nylon    LiClO6  ... -1.569857  1.033908  1.482964\n",
              "598       ACN   PDMS    LiClO6  ... -1.569857 -0.967204 -0.652909\n",
              "599  propanol   PDMS  LiCF3SO3  ...  0.222899  1.033908 -0.448422\n",
              "\n",
              "[600 rows x 17 columns]"
            ]
          },
          "metadata": {
            "tags": []
          },
          "execution_count": 56
        }
      ]
    },
    {
      "cell_type": "code",
      "metadata": {
        "id": "41VzpR0yAFMk",
        "colab": {
          "base_uri": "https://localhost:8080/",
          "height": 283
        },
        "outputId": "b9a3614e-1638-4f86-ad35-2fe926673f6c"
      },
      "source": [
        "data_copy.boxplot(figsize=(15,4))"
      ],
      "execution_count": null,
      "outputs": [
        {
          "output_type": "execute_result",
          "data": {
            "text/plain": [
              "<matplotlib.axes._subplots.AxesSubplot at 0x7f963a2b5e80>"
            ]
          },
          "metadata": {
            "tags": []
          },
          "execution_count": 57
        },
        {
          "output_type": "display_data",
          "data": {
            "image/png": "[encoded data removed]",
            "text/plain": [
              "<Figure size 1080x288 with 1 Axes>"
            ]
          },
          "metadata": {
            "tags": [],
            "needs_background": "light"
          }
        }
      ]
    },
    {
      "cell_type": "code",
      "metadata": {
        "id": "xRbayXrY0LHQ",
        "colab": {
          "base_uri": "https://localhost:8080/",
          "height": 446
        },
        "outputId": "519c2a65-243f-4f5d-b988-195a2fa81fca"
      },
      "source": [
        "data_copy.plot.density(figsize=(15,7), grid=True)"
      ],
      "execution_count": null,
      "outputs": [
        {
          "output_type": "execute_result",
          "data": {
            "text/plain": [
              "<matplotlib.axes._subplots.AxesSubplot at 0x7f96360f68d0>"
            ]
          },
          "metadata": {
            "tags": []
          },
          "execution_count": 58
        },
        {
          "output_type": "display_data",
          "data": {
            "image/png": "[encoded data removed]",
            "text/plain": [
              "<Figure size 1080x504 with 1 Axes>"
            ]
          },
          "metadata": {
            "tags": [],
            "needs_background": "light"
          }
        }
      ]
    },
    {
      "cell_type": "code",
      "metadata": {
        "id": "wtTDCAH_0lPD",
        "colab": {
          "base_uri": "https://localhost:8080/",
          "height": 348
        },
        "outputId": "3ad7e364-ad68-4ab8-a7cb-f1a73032e15f"
      },
      "source": [
        "# Are there any null values? \n",
        "data_copy.isnull().sum()"
      ],
      "execution_count": null,
      "outputs": [
        {
          "output_type": "execute_result",
          "data": {
            "text/plain": [
              "Input1     0\n",
              "Input2     0\n",
              "Input3     0\n",
              "Input4     0\n",
              "Input5     0\n",
              "Input6     0\n",
              "Input7     0\n",
              "Input8     0\n",
              "Input9     0\n",
              "Input10    0\n",
              "Input11    0\n",
              "Input12    0\n",
              "Input13    0\n",
              "Input14    0\n",
              "Input15    0\n",
              "Input16    0\n",
              "Target     0\n",
              "dtype: int64"
            ]
          },
          "metadata": {
            "tags": []
          },
          "execution_count": 59
        }
      ]
    },
    {
      "cell_type": "code",
      "metadata": {
        "id": "mr5dHdcB0lML",
        "colab": {
          "base_uri": "https://localhost:8080/",
          "height": 35
        },
        "outputId": "78b4d442-b2d1-466f-aae0-06781e39e460"
      },
      "source": [
        "# Are there any duplicated values?\n",
        "data_copy.duplicated().sum()"
      ],
      "execution_count": null,
      "outputs": [
        {
          "output_type": "execute_result",
          "data": {
            "text/plain": [
              "0"
            ]
          },
          "metadata": {
            "tags": []
          },
          "execution_count": 60
        }
      ]
    },
    {
      "cell_type": "markdown",
      "metadata": {
        "id": "Kk4rT2BpE7si"
      },
      "source": [
        "Preprocessing"
      ]
    },
    {
      "cell_type": "code",
      "metadata": {
        "id": "T1B4yg36eJ9x",
        "colab": {
          "base_uri": "https://localhost:8080/",
          "height": 444
        },
        "outputId": "d6a7d12f-b79c-470a-d747-892091490d02"
      },
      "source": [
        "df_pre = data.copy()\n",
        "\n",
        "catFeat = pd.DataFrame(data=data[data.columns[0:3]])\n",
        "numFeat = pd.DataFrame(data=data[data.columns[3:-1]])\n",
        "target = pd.DataFrame(data=data[data.columns[-1]])\n",
        "\n",
        "catFeat_enc = pd.get_dummies(data=catFeat)\n",
        "df_pre = df_pre.drop(labels=catFeat.columns, axis=1)\n",
        "df_pre = pd.concat([catFeat_enc, df_pre], axis=1)\n",
        "df_pre"
      ],
      "execution_count": null,
      "outputs": [
        {
          "output_type": "execute_result",
          "data": {
            "text/html": [
              "<div>\n",
              "<style scoped>\n",
              "    .dataframe tbody tr th:only-of-type {\n",
              "        vertical-align: middle;\n",
              "    }\n",
              "\n",
              "    .dataframe tbody tr th {\n",
              "        vertical-align: top;\n",
              "    }\n",
              "\n",
              "    .dataframe thead th {\n",
              "        text-align: right;\n",
              "    }\n",
              "</style>\n",
              "<table border=\"1\" class=\"dataframe\">\n",
              "  <thead>\n",
              "    <tr style=\"text-align: right;\">\n",
              "      <th></th>\n",
              "      <th>Input1_ACN</th>\n",
              "      <th>Input1_DMF</th>\n",
              "      <th>Input1_DMSO</th>\n",
              "      <th>Input1_THF</th>\n",
              "      <th>Input1_acetone</th>\n",
              "      <th>Input1_chloroform</th>\n",
              "      <th>Input1_propanol</th>\n",
              "      <th>Input2_Nylon</th>\n",
              "      <th>Input2_PDMS</th>\n",
              "      <th>Input2_PEO</th>\n",
              "      <th>Input2_PMMA</th>\n",
              "      <th>Input2_PP</th>\n",
              "      <th>Input2_PS</th>\n",
              "      <th>Input2_PUR</th>\n",
              "      <th>Input2_PVC</th>\n",
              "      <th>Input3_LiBF4</th>\n",
              "      <th>Input3_LiCF3SO3</th>\n",
              "      <th>Input3_LiClO4</th>\n",
              "      <th>Input3_LiClO6</th>\n",
              "      <th>Input3_LiI</th>\n",
              "      <th>Input3_LiTFSI</th>\n",
              "      <th>Input4</th>\n",
              "      <th>Input5</th>\n",
              "      <th>Input6</th>\n",
              "      <th>Input7</th>\n",
              "      <th>Input8</th>\n",
              "      <th>Input9</th>\n",
              "      <th>Input10</th>\n",
              "      <th>Input11</th>\n",
              "      <th>Input12</th>\n",
              "      <th>Input13</th>\n",
              "      <th>Input14</th>\n",
              "      <th>Input15</th>\n",
              "      <th>Input16</th>\n",
              "      <th>Target</th>\n",
              "    </tr>\n",
              "  </thead>\n",
              "  <tbody>\n",
              "    <tr>\n",
              "      <th>0</th>\n",
              "      <td>0</td>\n",
              "      <td>0</td>\n",
              "      <td>0</td>\n",
              "      <td>0</td>\n",
              "      <td>1</td>\n",
              "      <td>0</td>\n",
              "      <td>0</td>\n",
              "      <td>0</td>\n",
              "      <td>1</td>\n",
              "      <td>0</td>\n",
              "      <td>0</td>\n",
              "      <td>0</td>\n",
              "      <td>0</td>\n",
              "      <td>0</td>\n",
              "      <td>0</td>\n",
              "      <td>0</td>\n",
              "      <td>0</td>\n",
              "      <td>1</td>\n",
              "      <td>0</td>\n",
              "      <td>0</td>\n",
              "      <td>0</td>\n",
              "      <td>12825.6</td>\n",
              "      <td>75.7</td>\n",
              "      <td>546.3</td>\n",
              "      <td>50.6</td>\n",
              "      <td>78.8</td>\n",
              "      <td>1408.9</td>\n",
              "      <td>463.1</td>\n",
              "      <td>43.6</td>\n",
              "      <td>120.3</td>\n",
              "      <td>97.8</td>\n",
              "      <td>0.8</td>\n",
              "      <td>450.0000</td>\n",
              "      <td>0</td>\n",
              "      <td>246.086636</td>\n",
              "    </tr>\n",
              "    <tr>\n",
              "      <th>1</th>\n",
              "      <td>1</td>\n",
              "      <td>0</td>\n",
              "      <td>0</td>\n",
              "      <td>0</td>\n",
              "      <td>0</td>\n",
              "      <td>0</td>\n",
              "      <td>0</td>\n",
              "      <td>0</td>\n",
              "      <td>0</td>\n",
              "      <td>0</td>\n",
              "      <td>0</td>\n",
              "      <td>0</td>\n",
              "      <td>0</td>\n",
              "      <td>1</td>\n",
              "      <td>0</td>\n",
              "      <td>0</td>\n",
              "      <td>0</td>\n",
              "      <td>0</td>\n",
              "      <td>0</td>\n",
              "      <td>1</td>\n",
              "      <td>0</td>\n",
              "      <td>5161.7</td>\n",
              "      <td>1365.1</td>\n",
              "      <td>397.2</td>\n",
              "      <td>39.7</td>\n",
              "      <td>152.4</td>\n",
              "      <td>423.3</td>\n",
              "      <td>751.8</td>\n",
              "      <td>56.1</td>\n",
              "      <td>944.7</td>\n",
              "      <td>90.4</td>\n",
              "      <td>0.8</td>\n",
              "      <td>138.8889</td>\n",
              "      <td>1</td>\n",
              "      <td>779.498146</td>\n",
              "    </tr>\n",
              "    <tr>\n",
              "      <th>2</th>\n",
              "      <td>0</td>\n",
              "      <td>0</td>\n",
              "      <td>1</td>\n",
              "      <td>0</td>\n",
              "      <td>0</td>\n",
              "      <td>0</td>\n",
              "      <td>0</td>\n",
              "      <td>0</td>\n",
              "      <td>0</td>\n",
              "      <td>0</td>\n",
              "      <td>0</td>\n",
              "      <td>0</td>\n",
              "      <td>1</td>\n",
              "      <td>0</td>\n",
              "      <td>0</td>\n",
              "      <td>0</td>\n",
              "      <td>0</td>\n",
              "      <td>0</td>\n",
              "      <td>1</td>\n",
              "      <td>0</td>\n",
              "      <td>0</td>\n",
              "      <td>13297.0</td>\n",
              "      <td>221.2</td>\n",
              "      <td>528.9</td>\n",
              "      <td>37.1</td>\n",
              "      <td>209.4</td>\n",
              "      <td>2737.2</td>\n",
              "      <td>829.7</td>\n",
              "      <td>58.1</td>\n",
              "      <td>2304.2</td>\n",
              "      <td>103.1</td>\n",
              "      <td>0.9</td>\n",
              "      <td>177.7778</td>\n",
              "      <td>0</td>\n",
              "      <td>5145.489427</td>\n",
              "    </tr>\n",
              "    <tr>\n",
              "      <th>3</th>\n",
              "      <td>0</td>\n",
              "      <td>0</td>\n",
              "      <td>0</td>\n",
              "      <td>0</td>\n",
              "      <td>0</td>\n",
              "      <td>0</td>\n",
              "      <td>1</td>\n",
              "      <td>0</td>\n",
              "      <td>0</td>\n",
              "      <td>0</td>\n",
              "      <td>0</td>\n",
              "      <td>1</td>\n",
              "      <td>0</td>\n",
              "      <td>0</td>\n",
              "      <td>0</td>\n",
              "      <td>0</td>\n",
              "      <td>0</td>\n",
              "      <td>1</td>\n",
              "      <td>0</td>\n",
              "      <td>0</td>\n",
              "      <td>0</td>\n",
              "      <td>18131.2</td>\n",
              "      <td>1550.2</td>\n",
              "      <td>875.9</td>\n",
              "      <td>34.8</td>\n",
              "      <td>976.5</td>\n",
              "      <td>316.6</td>\n",
              "      <td>519.5</td>\n",
              "      <td>46.0</td>\n",
              "      <td>158.6</td>\n",
              "      <td>180.1</td>\n",
              "      <td>0.4</td>\n",
              "      <td>100.0000</td>\n",
              "      <td>1</td>\n",
              "      <td>6.773916</td>\n",
              "    </tr>\n",
              "    <tr>\n",
              "      <th>4</th>\n",
              "      <td>1</td>\n",
              "      <td>0</td>\n",
              "      <td>0</td>\n",
              "      <td>0</td>\n",
              "      <td>0</td>\n",
              "      <td>0</td>\n",
              "      <td>0</td>\n",
              "      <td>0</td>\n",
              "      <td>0</td>\n",
              "      <td>0</td>\n",
              "      <td>1</td>\n",
              "      <td>0</td>\n",
              "      <td>0</td>\n",
              "      <td>0</td>\n",
              "      <td>0</td>\n",
              "      <td>0</td>\n",
              "      <td>0</td>\n",
              "      <td>0</td>\n",
              "      <td>1</td>\n",
              "      <td>0</td>\n",
              "      <td>0</td>\n",
              "      <td>19764.5</td>\n",
              "      <td>201.7</td>\n",
              "      <td>371.8</td>\n",
              "      <td>40.5</td>\n",
              "      <td>614.0</td>\n",
              "      <td>2499.8</td>\n",
              "      <td>989.7</td>\n",
              "      <td>53.9</td>\n",
              "      <td>815.9</td>\n",
              "      <td>116.1</td>\n",
              "      <td>0.9</td>\n",
              "      <td>100.0000</td>\n",
              "      <td>0</td>\n",
              "      <td>601.290165</td>\n",
              "    </tr>\n",
              "    <tr>\n",
              "      <th>...</th>\n",
              "      <td>...</td>\n",
              "      <td>...</td>\n",
              "      <td>...</td>\n",
              "      <td>...</td>\n",
              "      <td>...</td>\n",
              "      <td>...</td>\n",
              "      <td>...</td>\n",
              "      <td>...</td>\n",
              "      <td>...</td>\n",
              "      <td>...</td>\n",
              "      <td>...</td>\n",
              "      <td>...</td>\n",
              "      <td>...</td>\n",
              "      <td>...</td>\n",
              "      <td>...</td>\n",
              "      <td>...</td>\n",
              "      <td>...</td>\n",
              "      <td>...</td>\n",
              "      <td>...</td>\n",
              "      <td>...</td>\n",
              "      <td>...</td>\n",
              "      <td>...</td>\n",
              "      <td>...</td>\n",
              "      <td>...</td>\n",
              "      <td>...</td>\n",
              "      <td>...</td>\n",
              "      <td>...</td>\n",
              "      <td>...</td>\n",
              "      <td>...</td>\n",
              "      <td>...</td>\n",
              "      <td>...</td>\n",
              "      <td>...</td>\n",
              "      <td>...</td>\n",
              "      <td>...</td>\n",
              "      <td>...</td>\n",
              "    </tr>\n",
              "    <tr>\n",
              "      <th>595</th>\n",
              "      <td>0</td>\n",
              "      <td>0</td>\n",
              "      <td>0</td>\n",
              "      <td>0</td>\n",
              "      <td>1</td>\n",
              "      <td>0</td>\n",
              "      <td>0</td>\n",
              "      <td>1</td>\n",
              "      <td>0</td>\n",
              "      <td>0</td>\n",
              "      <td>0</td>\n",
              "      <td>0</td>\n",
              "      <td>0</td>\n",
              "      <td>0</td>\n",
              "      <td>0</td>\n",
              "      <td>0</td>\n",
              "      <td>0</td>\n",
              "      <td>1</td>\n",
              "      <td>0</td>\n",
              "      <td>0</td>\n",
              "      <td>0</td>\n",
              "      <td>9235.5</td>\n",
              "      <td>413.8</td>\n",
              "      <td>759.3</td>\n",
              "      <td>42.5</td>\n",
              "      <td>518.9</td>\n",
              "      <td>2316.1</td>\n",
              "      <td>949.4</td>\n",
              "      <td>55.5</td>\n",
              "      <td>297.5</td>\n",
              "      <td>99.8</td>\n",
              "      <td>0.5</td>\n",
              "      <td>450.0000</td>\n",
              "      <td>0</td>\n",
              "      <td>147.716638</td>\n",
              "    </tr>\n",
              "    <tr>\n",
              "      <th>596</th>\n",
              "      <td>0</td>\n",
              "      <td>0</td>\n",
              "      <td>0</td>\n",
              "      <td>1</td>\n",
              "      <td>0</td>\n",
              "      <td>0</td>\n",
              "      <td>0</td>\n",
              "      <td>0</td>\n",
              "      <td>0</td>\n",
              "      <td>0</td>\n",
              "      <td>0</td>\n",
              "      <td>0</td>\n",
              "      <td>0</td>\n",
              "      <td>1</td>\n",
              "      <td>0</td>\n",
              "      <td>1</td>\n",
              "      <td>0</td>\n",
              "      <td>0</td>\n",
              "      <td>0</td>\n",
              "      <td>0</td>\n",
              "      <td>0</td>\n",
              "      <td>4959.3</td>\n",
              "      <td>272.3</td>\n",
              "      <td>558.7</td>\n",
              "      <td>55.2</td>\n",
              "      <td>331.9</td>\n",
              "      <td>2945.9</td>\n",
              "      <td>825.4</td>\n",
              "      <td>46.2</td>\n",
              "      <td>1913.9</td>\n",
              "      <td>37.7</td>\n",
              "      <td>0.6</td>\n",
              "      <td>255.5556</td>\n",
              "      <td>0</td>\n",
              "      <td>331.005190</td>\n",
              "    </tr>\n",
              "    <tr>\n",
              "      <th>597</th>\n",
              "      <td>0</td>\n",
              "      <td>0</td>\n",
              "      <td>0</td>\n",
              "      <td>0</td>\n",
              "      <td>1</td>\n",
              "      <td>0</td>\n",
              "      <td>0</td>\n",
              "      <td>1</td>\n",
              "      <td>0</td>\n",
              "      <td>0</td>\n",
              "      <td>0</td>\n",
              "      <td>0</td>\n",
              "      <td>0</td>\n",
              "      <td>0</td>\n",
              "      <td>0</td>\n",
              "      <td>0</td>\n",
              "      <td>0</td>\n",
              "      <td>0</td>\n",
              "      <td>1</td>\n",
              "      <td>0</td>\n",
              "      <td>0</td>\n",
              "      <td>1120.6</td>\n",
              "      <td>1997.9</td>\n",
              "      <td>842.0</td>\n",
              "      <td>52.6</td>\n",
              "      <td>348.1</td>\n",
              "      <td>2480.4</td>\n",
              "      <td>734.1</td>\n",
              "      <td>51.8</td>\n",
              "      <td>1480.2</td>\n",
              "      <td>185.0</td>\n",
              "      <td>1.0</td>\n",
              "      <td>100.0000</td>\n",
              "      <td>1</td>\n",
              "      <td>3293.799219</td>\n",
              "    </tr>\n",
              "    <tr>\n",
              "      <th>598</th>\n",
              "      <td>1</td>\n",
              "      <td>0</td>\n",
              "      <td>0</td>\n",
              "      <td>0</td>\n",
              "      <td>0</td>\n",
              "      <td>0</td>\n",
              "      <td>0</td>\n",
              "      <td>0</td>\n",
              "      <td>1</td>\n",
              "      <td>0</td>\n",
              "      <td>0</td>\n",
              "      <td>0</td>\n",
              "      <td>0</td>\n",
              "      <td>0</td>\n",
              "      <td>0</td>\n",
              "      <td>0</td>\n",
              "      <td>0</td>\n",
              "      <td>0</td>\n",
              "      <td>1</td>\n",
              "      <td>0</td>\n",
              "      <td>0</td>\n",
              "      <td>17819.0</td>\n",
              "      <td>53.6</td>\n",
              "      <td>339.4</td>\n",
              "      <td>42.1</td>\n",
              "      <td>610.6</td>\n",
              "      <td>822.6</td>\n",
              "      <td>504.9</td>\n",
              "      <td>54.8</td>\n",
              "      <td>1150.0</td>\n",
              "      <td>136.6</td>\n",
              "      <td>0.1</td>\n",
              "      <td>100.0000</td>\n",
              "      <td>0</td>\n",
              "      <td>248.158268</td>\n",
              "    </tr>\n",
              "    <tr>\n",
              "      <th>599</th>\n",
              "      <td>0</td>\n",
              "      <td>0</td>\n",
              "      <td>0</td>\n",
              "      <td>0</td>\n",
              "      <td>0</td>\n",
              "      <td>0</td>\n",
              "      <td>1</td>\n",
              "      <td>0</td>\n",
              "      <td>1</td>\n",
              "      <td>0</td>\n",
              "      <td>0</td>\n",
              "      <td>0</td>\n",
              "      <td>0</td>\n",
              "      <td>0</td>\n",
              "      <td>0</td>\n",
              "      <td>0</td>\n",
              "      <td>1</td>\n",
              "      <td>0</td>\n",
              "      <td>0</td>\n",
              "      <td>0</td>\n",
              "      <td>0</td>\n",
              "      <td>7843.8</td>\n",
              "      <td>259.0</td>\n",
              "      <td>833.8</td>\n",
              "      <td>43.8</td>\n",
              "      <td>851.9</td>\n",
              "      <td>2956.3</td>\n",
              "      <td>611.0</td>\n",
              "      <td>48.8</td>\n",
              "      <td>2149.6</td>\n",
              "      <td>67.6</td>\n",
              "      <td>0.9</td>\n",
              "      <td>294.4444</td>\n",
              "      <td>1</td>\n",
              "      <td>539.745842</td>\n",
              "    </tr>\n",
              "  </tbody>\n",
              "</table>\n",
              "<p>600 rows × 35 columns</p>\n",
              "</div>"
            ],
            "text/plain": [
              "     Input1_ACN  Input1_DMF  Input1_DMSO  ...   Input15  Input16       Target\n",
              "0             0           0            0  ...  450.0000        0   246.086636\n",
              "1             1           0            0  ...  138.8889        1   779.498146\n",
              "2             0           0            1  ...  177.7778        0  5145.489427\n",
              "3             0           0            0  ...  100.0000        1     6.773916\n",
              "4             1           0            0  ...  100.0000        0   601.290165\n",
              "..          ...         ...          ...  ...       ...      ...          ...\n",
              "595           0           0            0  ...  450.0000        0   147.716638\n",
              "596           0           0            0  ...  255.5556        0   331.005190\n",
              "597           0           0            0  ...  100.0000        1  3293.799219\n",
              "598           1           0            0  ...  100.0000        0   248.158268\n",
              "599           0           0            0  ...  294.4444        1   539.745842\n",
              "\n",
              "[600 rows x 35 columns]"
            ]
          },
          "metadata": {
            "tags": []
          },
          "execution_count": 61
        }
      ]
    },
    {
      "cell_type": "code",
      "metadata": {
        "id": "yvhjRPaSiLDv",
        "colab": {
          "base_uri": "https://localhost:8080/",
          "height": 72
        },
        "outputId": "4a2d7911-7bfb-454c-c77b-e92007a8b328"
      },
      "source": [
        "X = df_pre[df_pre.columns[:-1]]\n",
        "y = df_pre[df_pre.columns[-1]]\n",
        "print(df_pre.shape)\n",
        "print(X.shape)\n",
        "print(y.shape)"
      ],
      "execution_count": null,
      "outputs": [
        {
          "output_type": "stream",
          "text": [
            "(600, 35)\n",
            "(600, 34)\n",
            "(600,)\n"
          ],
          "name": "stdout"
        }
      ]
    },
    {
      "cell_type": "code",
      "metadata": {
        "id": "HXNAKo9R20Aw",
        "colab": {
          "base_uri": "https://localhost:8080/",
          "height": 219
        },
        "outputId": "f8f54f50-123c-4018-efa0-73b84545ffc5"
      },
      "source": [
        "# def splitData(X, y, test_size=0.3):\n",
        "test_size=0.3\n",
        "X_pool, X_test, y_pool, y_test = train_test_split(X, y, test_size=test_size, random_state=1)\n",
        "\n",
        "X_pool_cat = X_pool[X_pool.columns[:catFeat_enc.shape[1]]]\n",
        "X_pool_num = X_pool[X_pool.columns[catFeat_enc.shape[1]:]]\n",
        "\n",
        "X_test_cat = X_test[X_test.columns[:catFeat_enc.shape[1]]]\n",
        "X_test_num = X_test[X_test.columns[catFeat_enc.shape[1]:]]\n",
        "\n",
        "# reset indicies\n",
        "X_pool_cat = X_pool_cat.reset_index(drop=True)#, inplace=True)\n",
        "X_pool_num = X_pool_num.reset_index(drop=True)#, inplace=True)\n",
        "X_test_cat = X_test_cat.reset_index(drop=True)#, inplace=True)\n",
        "X_test_num = X_test_num.reset_index(drop=True)#, inplace=True)\n",
        "\n",
        "y_pool = y_pool.reset_index().drop(labels='index', axis=1)\n",
        "y_test = y_test.reset_index().drop(labels='index', axis=1)\n",
        "\n",
        "print()\n",
        "print('X_pool.shape:',X_pool.shape)\n",
        "print('X_test.shape:',X_test.shape)\n",
        "print('y_pool.shape:',y_pool.shape)\n",
        "print('y_test.shape:',y_test.shape)\n",
        "print()\n",
        "print('X_pool_cat.shape:',X_pool_cat.shape)\n",
        "print('X_pool_num.shape:',X_pool_num.shape)\n",
        "print('X_test_cat.shape :',X_test_cat.shape)\n",
        "print('X_test_num.shape :',X_test_num.shape)\n",
        "print()\n",
        "\n",
        "# return X_pool_cat, X_pool_num, X_test_cat, X_test_num, y_pool, y_test"
      ],
      "execution_count": null,
      "outputs": [
        {
          "output_type": "stream",
          "text": [
            "\n",
            "X_pool.shape: (420, 34)\n",
            "X_test.shape: (180, 34)\n",
            "y_pool.shape: (420, 1)\n",
            "y_test.shape: (180, 1)\n",
            "\n",
            "X_pool_cat.shape: (420, 21)\n",
            "X_pool_num.shape: (420, 13)\n",
            "X_test_cat.shape : (180, 21)\n",
            "X_test_num.shape : (180, 13)\n",
            "\n"
          ],
          "name": "stdout"
        }
      ]
    },
    {
      "cell_type": "code",
      "metadata": {
        "id": "kNs52-KGh3Rk",
        "colab": {
          "base_uri": "https://localhost:8080/",
          "height": 35
        },
        "outputId": "f828e6b6-7f7a-4935-a7fc-96c9d5f49e15"
      },
      "source": [
        "# def getColdStartIndices(X_pool_num,numOfPoints=10):\n",
        "numOfPoints=10\n",
        "random.seed(1)\n",
        "indecies = random.sample(range(0, X_pool_num.shape[0]), numOfPoints)\n",
        "indecies\n",
        "# return indecies"
      ],
      "execution_count": null,
      "outputs": [
        {
          "output_type": "execute_result",
          "data": {
            "text/plain": [
              "[68, 291, 410, 391, 32, 130, 60, 253, 389, 230]"
            ]
          },
          "metadata": {
            "tags": []
          },
          "execution_count": 64
        }
      ]
    },
    {
      "cell_type": "code",
      "metadata": {
        "id": "OoW2dcZdmpDe"
      },
      "source": [
        "# def getColdStartPoints(X_pool_num, X_pool_cat, y_pool, indecies, numOfPoints=10):\n",
        "# sampling from numerical features\n",
        "X_train_num = X_pool_num.loc[indecies,:]\n",
        "X_valid_num = X_pool_num.drop(axis=0, index=indecies)\n",
        "# print(X_pool_num.shape)\n",
        "X_pool_num  = X_pool_num.drop(axis=0, index=indecies)\n",
        "# print(X_pool_num.shape)\n",
        "# print(X_train_num.shape)\n",
        "# print(X_valid_num.shape)\n",
        "# print()\n",
        "# and the corrosponding samples from the categorical features\n",
        "X_train_cat = X_pool_cat.loc[indecies,:]\n",
        "X_valid_cat = X_pool_cat.drop(axis=0, index=indecies)\n",
        "# print(X_pool_cat.shape)\n",
        "X_pool_cat  = X_pool_cat.drop(axis=0, index=indecies)\n",
        "# print(X_pool_cat.shape)\n",
        "# print(X_train_cat.shape)\n",
        "# print(X_valid_cat.shape)\n",
        "# and the corrosponding samples from the target variable\n",
        "y_train = y_pool.loc[indecies,:]\n",
        "y_valid = y_pool.drop(axis=0, index=indecies)\n",
        "# print(y_pool.shape)\n",
        "y_pool  = y_pool.drop(axis=0, index=indecies)\n",
        "# print(y_pool.shape)\n",
        "# print(y_train.shape)\n",
        "# print(y_valid.shape)\n",
        "\n",
        "# return X_train_num, X_valid_num, X_train_cat, X_valid_cat, y_train, y_valid"
      ],
      "execution_count": null,
      "outputs": []
    },
    {
      "cell_type": "code",
      "metadata": {
        "id": "L15g6lQWBo1b",
        "colab": {
          "base_uri": "https://localhost:8080/",
          "height": 164
        },
        "outputId": "6eba1d12-4a06-41ba-d9ea-99c938feefe3"
      },
      "source": [
        "# def preprocessData(X_train_num, X_valid_num, X_test_num, y_train, y_valid, y_test):\n",
        "\n",
        "APPLY_PCA = 0\n",
        "\n",
        "scalerX = StandardScaler().fit(X_train_num)\n",
        "scalerY = StandardScaler().fit(y_train)#.values.reshape(-1,1))\n",
        "\n",
        "X_train_num_scaled = pd.DataFrame(data=scalerX.transform(X_train_num))\n",
        "X_valid_num_scaled = pd.DataFrame(data=scalerX.transform(X_valid_num))\n",
        "X_test_num_scaled  = pd.DataFrame(data=scalerX.transform(X_test_num))\n",
        "\n",
        "y_train_scaled = scalerY.transform(y_train)\n",
        "y_valid_scaled = scalerY.transform(y_valid)\n",
        "y_test_scaled  = scalerY.transform(y_test)\n",
        "\n",
        "X_train_cat.reset_index(drop=True, inplace=True)\n",
        "X_train_num_scaled.reset_index(drop=True, inplace=True)\n",
        "combined_train = pd.concat([X_train_cat, X_train_num_scaled], axis=1, ignore_index=True)\n",
        "\n",
        "X_valid_cat.reset_index(drop=True, inplace=True)\n",
        "X_valid_num_scaled.reset_index(drop=True, inplace=True)\n",
        "combined_valid = pd.concat([X_valid_cat, X_valid_num_scaled], axis=1, ignore_index=True)\n",
        "\n",
        "X_test_cat.reset_index(drop=True, inplace=True)\n",
        "X_test_num_scaled.reset_index(drop=True, inplace=True)\n",
        "combined_test  = pd.concat([X_test_cat, X_test_num_scaled], axis=1, ignore_index=True)\n",
        "\n",
        "X_train = combined_train.values\n",
        "X_valid = combined_valid.values\n",
        "X_test  = combined_test.values\n",
        "\n",
        "y_train = y_train_scaled\n",
        "y_valid = y_valid_scaled\n",
        "y_test  = y_test_scaled\n",
        "\n",
        "if APPLY_PCA == 1:\n",
        "  # PCA goes here\n",
        "  # Make an instance of the PCA Model\n",
        "  pca = PCA(0.95) #(.95)\n",
        "  pca.fit(X_train)\n",
        "  X_train = pca.transform(X_train)\n",
        "  X_valid = pca.transform(X_valid)\n",
        "  X_test  = pca.transform(X_test)\n",
        "\n",
        "print()\n",
        "print('X_train.shape:', X_train.shape)\n",
        "print('X_valid.shape:', X_valid.shape)\n",
        "print('X_test.shape :', X_test.shape)\n",
        "print('y_train.shape:', y_train.shape)\n",
        "print('y_valid.shape:', y_valid.shape)\n",
        "print('y_test.shape :', y_test.shape)\n",
        "print()\n",
        "\n",
        "# return X_train, X_valid, X_test, y_train, y_valid, y_test"
      ],
      "execution_count": null,
      "outputs": [
        {
          "output_type": "stream",
          "text": [
            "\n",
            "X_train.shape: (10, 34)\n",
            "X_valid.shape: (410, 34)\n",
            "X_test.shape : (180, 34)\n",
            "y_train.shape: (10, 1)\n",
            "y_valid.shape: (410, 1)\n",
            "y_test.shape : (180, 1)\n",
            "\n"
          ],
          "name": "stdout"
        }
      ]
    },
    {
      "cell_type": "code",
      "metadata": {
        "id": "F2uYgcc3JlPe"
      },
      "source": [
        "def buildAndFitTheModel(X_train, y_train):\n",
        "  # Instantiate a Gaussian Process model\n",
        "  kernel = C(constant_value=1.0, constant_value_bounds=(1e-5, 1e5)) * \\\n",
        "        RBF(length_scale=10.0, length_scale_bounds=(1e-5, 1e5)) + \\\n",
        "        RBF(length_scale=2.0, length_scale_bounds=(1e-5, 1e5))\n",
        "\n",
        "  model = GaussianProcessRegressor(kernel=kernel, n_restarts_optimizer=10)\n",
        "# print(gp)\n",
        "  model.fit(X_train, y_train)\n",
        "  return model\n"
      ],
      "execution_count": null,
      "outputs": []
    },
    {
      "cell_type": "code",
      "metadata": {
        "id": "kkig3g4FvAM0"
      },
      "source": [
        "def predictAndEval(model, X_train, X_valid, X_test, y_train, y_valid, y_test):\n",
        "  y_pred_train, std_train = model.predict(X_train, return_std=True)\n",
        "  y_pred_valid, std_valid = model.predict(X_valid, return_std=True)\n",
        "  y_pred_test,  std_test  = model.predict(X_test, return_std=True)\n",
        "\n",
        "  WAPE_train = 100*np.absolute(y_train-y_pred_train).sum()/np.absolute(y_train).sum()\n",
        "  WAPE_valid = 100*np.absolute(y_valid-y_pred_valid).sum()/np.absolute(y_valid).sum()\n",
        "  WAPE_test  = 100*np.absolute(y_test-y_pred_test).sum()/np.absolute(y_test).sum()\n",
        "\n",
        "  print('WAPE_train:',WAPE_train)\n",
        "  print('WAPE_valid:',WAPE_valid)\n",
        "  print('WAPE_test :',WAPE_test)\n",
        "\n",
        "  return WAPE_test, std_valid"
      ],
      "execution_count": null,
      "outputs": []
    },
    {
      "cell_type": "code",
      "metadata": {
        "id": "egZ7RJ6rbFx7"
      },
      "source": [
        "def getMostInformativePoints(std_valid, numOfPoints=10):\n",
        "  return std_valid.argsort()[-numOfPoints:][::-1]"
      ],
      "execution_count": null,
      "outputs": []
    },
    {
      "cell_type": "code",
      "metadata": {
        "id": "hB4ZOqpszpRA"
      },
      "source": [
        "def getLeastInformativePoints(std_valid, numOfPoints=10):\n",
        "  return std_valid.argsort()[:numOfPoints]"
      ],
      "execution_count": null,
      "outputs": []
    },
    {
      "cell_type": "code",
      "metadata": {
        "id": "y1pdK8W7qZbL",
        "colab": {
          "base_uri": "https://localhost:8080/",
          "height": 90
        },
        "outputId": "e53eee9e-0f74-4241-e88f-8fa9f1f47813"
      },
      "source": [
        "model = buildAndFitTheModel(X_train, y_train)\n",
        "WAPE_test, std_valid = predictAndEval(model, X_train, X_valid, X_test, y_train, y_valid, y_test)\n",
        "print(WAPE_test)\n",
        "indecies = getMostInformativePoints(std_valid, numOfPoints=10)\n",
        "counter = 1\n",
        "scores_test = [WAPE_test]\n",
        "iterations = [counter]"
      ],
      "execution_count": null,
      "outputs": [
        {
          "output_type": "stream",
          "text": [
            "WAPE_train: 9.99989657352142e-09\n",
            "WAPE_valid: 100.0\n",
            "WAPE_test : 100.0\n",
            "100.0\n"
          ],
          "name": "stdout"
        }
      ]
    },
    {
      "cell_type": "code",
      "metadata": {
        "id": "yLa3FzK63vlj",
        "colab": {
          "base_uri": "https://localhost:8080/",
          "height": 1000
        },
        "outputId": "ebfa90c6-2d59-4b37-946b-c265422cf7f4"
      },
      "source": [
        "for i in range(5):\n",
        "  # move points from valid to train (X and y)\n",
        "  print('---------------')\n",
        "  print('Iteration:', counter)\n",
        "  print('---------------')\n",
        "  # print(X_train.shape)\n",
        "  X_train = np.concatenate((X_train, X_valid[indecies][:]), axis=0)\n",
        "  # print(X_train.shape)\n",
        "  # print()\n",
        "  # print(X_valid.shape)\n",
        "  X_valid = np.delete(arr=X_valid, obj=indecies, axis=0)\n",
        "  # print(X_valid.shape)\n",
        "  # print()\n",
        "  # print(y_train.shape)\n",
        "  y_train = np.concatenate((y_train, y_valid[indecies][:]), axis=0)\n",
        "  # print(y_train.shape)\n",
        "  # print()\n",
        "  # print(y_valid.shape)\n",
        "  y_valid = np.delete(arr=y_valid, obj=indecies, axis=0)\n",
        "  # print(y_valid.shape)\n",
        "\n",
        "  # split cat and num features\n",
        "  X_train_cat = X_train[:,:catFeat_enc.shape[1]]\n",
        "  X_train_num = X_train[:,catFeat_enc.shape[1]:]\n",
        "  X_valid_cat = X_valid[:,:catFeat_enc.shape[1]]\n",
        "  X_valid_num = X_valid[:,catFeat_enc.shape[1]:]\n",
        "  X_test_cat  = X_test[:,:catFeat_enc.shape[1]]\n",
        "  X_test_num  = X_test[:,catFeat_enc.shape[1]:]\n",
        "\n",
        "  # inverse scale num features\n",
        "  X_train_num = scalerX.inverse_transform(X_train_num)\n",
        "  X_valid_num = scalerX.inverse_transform(X_valid_num)\n",
        "  X_test_num  = scalerX.inverse_transform(X_test_num)\n",
        "\n",
        "  y_train = scalerY.inverse_transform(y_train)\n",
        "  y_valid = scalerY.inverse_transform(y_valid)\n",
        "  y_test  = scalerY.inverse_transform(y_test)\n",
        "\n",
        "  # scale again\n",
        "  scalerX = StandardScaler().fit(X_train_num)\n",
        "  scalerY = StandardScaler().fit(y_train)\n",
        "\n",
        "  y_train = scalerY.transform(y_train)\n",
        "  y_valid = scalerY.transform(y_valid)\n",
        "  y_test  = scalerY.transform(y_test)\n",
        "\n",
        "  # concatenate num and cat features again\n",
        "  X_train = np.concatenate([X_train_cat, scalerX.transform(X_train_num)], axis=1)\n",
        "  X_valid = np.concatenate([X_valid_cat, scalerX.transform(X_valid_num)], axis=1)\n",
        "  X_test  = np.concatenate([X_test_cat,  scalerX.transform(X_test_num)], axis=1)\n",
        "\n",
        "  # print()\n",
        "  print('X_train.shape:',X_train.shape)\n",
        "  print('X_valid.shape:',X_valid.shape)\n",
        "  print('X_test.shape:',X_test.shape)\n",
        "  print()\n",
        "\n",
        "  model = buildAndFitTheModel(X_train, y_train)\n",
        "  WAPE_test, std_valid = predictAndEval(model, X_train, X_valid, X_test, y_train, y_valid, y_test)\n",
        "  print(WAPE_test)\n",
        "  indecies = getMostInformativePoints(std_valid, numOfPoints=10)\n",
        "  counter += 1\n",
        "  iterations.append(counter)\n",
        "  scores_test.append(WAPE_test)\n",
        "\n",
        "explorePointsIndecies  = getLeastInformativePoints(std_valid=std_valid)\n",
        "exploitePointsIndecies = getMostInformativePoints(std_valid=std_valid)\n",
        "explorePoints  = X_valid[explorePointsIndecies][:]\n",
        "exploitePoints = X_valid[explorePointsIndecies][:]\n",
        "print()\n",
        "print('explorePointsIndecies:', explorePointsIndecies)\n",
        "print('exploitePointsIndecies:',exploitePointsIndecies)\n",
        "# print()\n",
        "# print('explorePoints:', explorePoints)\n",
        "# print('exploitePoints:',exploitePoints)"
      ],
      "execution_count": null,
      "outputs": [
        {
          "output_type": "stream",
          "text": [
            "---------------\n",
            "Iteration: 1\n",
            "---------------\n",
            "X_train.shape: (20, 34)\n",
            "X_valid.shape: (400, 34)\n",
            "X_test.shape: (180, 34)\n",
            "\n",
            "WAPE_train: 1.032085147685436e-08\n",
            "WAPE_valid: 95.54082756928621\n",
            "WAPE_test : 98.42252803695685\n",
            "98.42252803695685\n",
            "---------------\n",
            "Iteration: 2\n",
            "---------------\n",
            "X_train.shape: (30, 34)\n",
            "X_valid.shape: (390, 34)\n",
            "X_test.shape: (180, 34)\n",
            "\n",
            "WAPE_train: 9.991150832143268e-09\n",
            "WAPE_valid: 91.33746014202019\n",
            "WAPE_test : 92.22126668875057\n",
            "92.22126668875057\n",
            "---------------\n",
            "Iteration: 3\n",
            "---------------\n",
            "X_train.shape: (40, 34)\n",
            "X_valid.shape: (380, 34)\n",
            "X_test.shape: (180, 34)\n",
            "\n",
            "WAPE_train: 1.0035523435134993e-08\n",
            "WAPE_valid: 81.68534841210034\n",
            "WAPE_test : 79.99823903678183\n",
            "79.99823903678183\n",
            "---------------\n",
            "Iteration: 4\n",
            "---------------\n",
            "X_train.shape: (50, 34)\n",
            "X_valid.shape: (370, 34)\n",
            "X_test.shape: (180, 34)\n",
            "\n",
            "WAPE_train: 1.0786079726738263e-08\n",
            "WAPE_valid: 82.00776144626363\n",
            "WAPE_test : 77.30674699723198\n",
            "77.30674699723198\n",
            "---------------\n",
            "Iteration: 5\n",
            "---------------\n",
            "X_train.shape: (60, 34)\n",
            "X_valid.shape: (360, 34)\n",
            "X_test.shape: (180, 34)\n",
            "\n",
            "WAPE_train: 1.1832098578103363e-08\n",
            "WAPE_valid: 89.65829623832097\n",
            "WAPE_test : 84.55497359370482\n",
            "84.55497359370482\n",
            "\n",
            "explorePointsIndecies: [119 348 337 193 324 181 259  54 168 333]\n",
            "exploitePointsIndecies: [ 50 306 314  56 176 241 311 219 253  33]\n"
          ],
          "name": "stdout"
        }
      ]
    },
    {
      "cell_type": "code",
      "metadata": {
        "id": "Sre5PVwn1CIe",
        "colab": {
          "base_uri": "https://localhost:8080/",
          "height": 297
        },
        "outputId": "4b64994b-13e9-403c-ed43-d951a2a21435"
      },
      "source": [
        "plt.plot(iterations, scores_test)\n",
        "plt.xlabel('Iteration')\n",
        "plt.ylabel('WAPE_test')"
      ],
      "execution_count": null,
      "outputs": [
        {
          "output_type": "execute_result",
          "data": {
            "text/plain": [
              "Text(0, 0.5, 'WAPE_test')"
            ]
          },
          "metadata": {
            "tags": []
          },
          "execution_count": 73
        },
        {
          "output_type": "display_data",
          "data": {
            "image/png": "[encoded data removed]",
            "text/plain": [
              "<Figure size 432x288 with 1 Axes>"
            ]
          },
          "metadata": {
            "tags": [],
            "needs_background": "light"
          }
        }
      ]
    },
    {
      "cell_type": "code",
      "metadata": {
        "id": "erPzLLqnK-dz"
      },
      "source": [
        ""
      ],
      "execution_count": null,
      "outputs": []
    }
  ]
}